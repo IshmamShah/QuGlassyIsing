{
  "nbformat": 4,
  "nbformat_minor": 0,
  "metadata": {
    "colab": {
      "name": "Cellular Potts Model.ipynb",
      "provenance": []
    },
    "kernelspec": {
      "name": "python3",
      "display_name": "Python 3"
    },
    "language_info": {
      "name": "python"
    }
  },
  "cells": [
    {
      "cell_type": "code",
      "metadata": {
        "id": "EAMWkhkoCYKh"
      },
      "source": [
        "from itertools import product\n",
        "from time import sleep\n",
        "from typing import Callable, Optional\n",
        "\n",
        "import matplotlib.pyplot as plt\n",
        "import numpy as np\n",
        "from numpy.random import RandomState\n",
        "import seaborn as sns"
      ],
      "execution_count": null,
      "outputs": []
    },
    {
      "cell_type": "code",
      "metadata": {
        "id": "6bmdYrnRL3Zx"
      },
      "source": [
        "q = 4\n",
        "RANDOM_SEED = 42424\n",
        "WIDTH = 15\n",
        "J_c = 1  # ?\n",
        "h = 1"
      ],
      "execution_count": null,
      "outputs": []
    },
    {
      "cell_type": "code",
      "metadata": {
        "id": "ENFGt7emMEUX"
      },
      "source": [
        "# Python type hinting; the code works well without this\n",
        "Interaction = Callable[[int, int], float]"
      ],
      "execution_count": null,
      "outputs": []
    },
    {
      "cell_type": "code",
      "metadata": {
        "id": "A-rYVNeoMICp"
      },
      "source": [
        "def generate_correlated_field(rg: RandomState, correlation: float=0.3):\n",
        "    field = np.array(rg.randint(q, size=[WIDTH, WIDTH]), dtype=np.int8)\n",
        "\n",
        "    for i in range(field.shape[0]):\n",
        "        for j in range(field.shape[1]):\n",
        "            if i > 0 and j > 0 and rg.uniform() < correlation:\n",
        "                if rg.uniform() < 0.5:\n",
        "                    field[i,j] = field[i-1,j]\n",
        "                else:\n",
        "                    field[i,j] = field[i,j-1]\n",
        "    return field"
      ],
      "execution_count": null,
      "outputs": []
    },
    {
      "cell_type": "code",
      "metadata": {
        "id": "EpozgJhOMXsI"
      },
      "source": [
        "rg = RandomState(RANDOM_SEED)\n",
        "field = generate_correlated_field(rg, 0.5)"
      ],
      "execution_count": null,
      "outputs": []
    },
    {
      "cell_type": "code",
      "metadata": {
        "colab": {
          "base_uri": "https://localhost:8080/",
          "height": 284
        },
        "id": "jizc3wR8MnXn",
        "outputId": "af310249-73a6-4cd9-cabb-f3d7ece91871"
      },
      "source": [
        "%matplotlib inline\n",
        "def show_field(field: np.ndarray, title: Optional[str]=None) -> None:\n",
        "    sns.set()\n",
        "    ax = sns.heatmap(field, center=q/2, square=True, cbar=False)\n",
        "    if title:\n",
        "        ax.set_title(title)\n",
        "    ax.get_figure().savefig('field.png')\n",
        "\n",
        "show_field(field, 'Test')"
      ],
      "execution_count": null,
      "outputs": [
        {
          "output_type": "display_data",
          "data": {
            "image/png": "[encoded data removed]",
            "text/plain": [
              "<Figure size 432x288 with 1 Axes>"
            ]
          },
          "metadata": {
            "tags": []
          }
        }
      ]
    },
    {
      "cell_type": "code",
      "metadata": {
        "colab": {
          "base_uri": "https://localhost:8080/"
        },
        "id": "F1GKZ_IlMpg3",
        "outputId": "df7c06c7-6722-4a91-e39c-c2f7b253d00e"
      },
      "source": [
        "def kronecker(spin_1: int, spin_2: int) -> float:\n",
        "    return float(spin_1 == spin_2)\n",
        "\n",
        "def energy(field: np.ndarray, interaction: Interaction) -> float:\n",
        "    energy = 0\n",
        "    for i, j in product(range(WIDTH - 1), range(WIDTH)):\n",
        "        energy += interaction(field[i, j], field[i + 1, j])\n",
        "\n",
        "    for i, j in product(range(WIDTH), range(WIDTH - 1)):  # dim\n",
        "        energy += interaction(field[i, j], field[i, j + 1])\n",
        "    \n",
        "    return 2 * J_c * energy + h * field.sum()\n",
        "    \n",
        "energy(field, kronecker)"
      ],
      "execution_count": null,
      "outputs": [
        {
          "output_type": "execute_result",
          "data": {
            "text/plain": [
              "687.0"
            ]
          },
          "metadata": {
            "tags": []
          },
          "execution_count": 10
        }
      ]
    },
    {
      "cell_type": "code",
      "metadata": {
        "id": "fSSfhglcMu4P"
      },
      "source": [
        "def calculate_interaction_of_one_spin(field: np.ndarray, x: int, y: int, interaction: Interaction) -> float:\n",
        "    # factor 2 ?!\n",
        "    energy = 0\n",
        "    if x > 0:  # dim!!\n",
        "        energy += interaction(field[x-1,y], field[x,y])\n",
        "    if x < WIDTH - 1:\n",
        "        energy += interaction(field[x,y], field[x+1,y])\n",
        "    if y > 0:\n",
        "        energy += interaction(field[x,y-1], field[x,y])\n",
        "    if y < WIDTH - 1:\n",
        "        energy += interaction(field[x,y], field[x,y+1])\n",
        "    return 2 * J_c * energy"
      ],
      "execution_count": null,
      "outputs": []
    },
    {
      "cell_type": "code",
      "metadata": {
        "id": "_nodGs_eM6Gf"
      },
      "source": [
        "def calculate_energy_difference(field: np.ndarray, x: int, y: int, new_spin: int, interaction: Interaction) -> (float, np.ndarray):\n",
        "    # positive return value: update would imply energetically less favorable state\n",
        "    current_energy = calculate_interaction_of_one_spin(field, x, y, interaction)\n",
        "    field_updated = field.copy()  # Avoid side effects of function by copying\n",
        "    field_updated[x,y] = new_spin\n",
        "    updated_energy = calculate_interaction_of_one_spin(field_updated, x, y, interaction)\n",
        "    energy_difference = updated_energy - current_energy + h * (field_updated[x,y] - field[x,y])\n",
        "    return (updated_energy - current_energy, field_updated)"
      ],
      "execution_count": null,
      "outputs": []
    },
    {
      "cell_type": "code",
      "metadata": {
        "id": "AVII46L3M8vH"
      },
      "source": [
        "def update_metropolis(field: np.ndarray, free_energy: float, interaction: Interaction, random_state: RandomState) -> (np.ndarray, float):\n",
        "    random_x, random_y = random_state.randint(WIDTH, size=[2])  # dim\n",
        "    random_spin = random_state.randint(q)\n",
        "    energy_difference, field_updated = calculate_energy_difference(field, random_x, random_y, random_spin, interaction)\n",
        "    if energy_difference < 0 or random_state.uniform():\n",
        "        # free_energy_updated = free_energy - energy_difference\n",
        "        return field_updated, free_energy\n",
        "    else:\n",
        "        return field, free_energy"
      ],
      "execution_count": null,
      "outputs": []
    },
    {
      "cell_type": "code",
      "metadata": {
        "colab": {
          "base_uri": "https://localhost:8080/",
          "height": 55
        },
        "id": "PWyKkucxM_XH",
        "outputId": "1c5f85bf-b35a-47ad-bfd9-f829f5d12cd3"
      },
      "source": [
        "free_energy = 0\n",
        "rg = RandomState(RANDOM_SEED)\n",
        "field = np.array(rg.randint(q, size=[WIDTH, WIDTH]), dtype=np.int8)\n",
        "for i in range(100):\n",
        "    for _ in range(10):\n",
        "        field, free_energy = update_metropolis(field, free_energy, kronecker, rg)\n",
        "    show_field(field, f'Free energy: {free_energy}')\n",
        "    sleep(0.2)"
      ],
      "execution_count": null,
      "outputs": [
        {
          "output_type": "display_data",
          "data": {
            "image/png": "[encoded data removed]",
            "text/plain": [
              "<Figure size 432x288 with 1 Axes>"
            ]
          },
          "metadata": {
            "tags": []
          }
        }
      ]
    },
    {
      "cell_type": "code",
      "metadata": {
        "id": "TxwJg6hCNBWw"
      },
      "source": [
        ""
      ],
      "execution_count": null,
      "outputs": []
    }
  ]
}