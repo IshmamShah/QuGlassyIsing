{
  "nbformat": 4,
  "nbformat_minor": 0,
  "metadata": {
    "colab": {
      "name": "Cellular Potts.ipynb",
      "provenance": [],
      "collapsed_sections": []
    },
    "kernelspec": {
      "name": "python3",
      "display_name": "Python 3"
    },
    "language_info": {
      "name": "python"
    }
  },
  "cells": [
    {
      "cell_type": "markdown",
      "metadata": {
        "id": "Z-Zihtyoy5cA"
      },
      "source": [
        "# Potts"
      ]
    },
    {
      "cell_type": "code",
      "metadata": {
        "id": "OCAhHZQCOtPi"
      },
      "source": [
        "import time\n",
        "\n",
        "import numpy as np\n",
        "from matplotlib import pyplot as plt\n",
        "\n",
        "from IPython.display import clear_output\n",
        "\n",
        "\n",
        "%matplotlib inline\n",
        "\n",
        "\n",
        "class potts:\n",
        "\tdef __init__(self, L,q):\t#Create Potts model\n",
        "\t\n",
        "\t\tself.L=L\t\t#lattice length/width\n",
        "\t\tself.size=L**2\t#model size\n",
        "\t\tself.q=q\t\t#number of states\n",
        "\t\tself.h=np.zeros(self.q)\t\t#bias\n",
        "\t\tself.J=1\t#couplings\n",
        "\t\tself.randomize_state()\n",
        "\t\n",
        "\t\tself.set_temp()\n",
        "\t\t\n",
        "\tdef set_temp(self,T=1):\n",
        "\t\tself.T=1.0\n",
        "\t\tself.beta=1.0/self.T\n",
        "\tdef set_beta(self,B):\n",
        "\t\tself.beta=B\n",
        "\t\tif B==0:\n",
        "\t\t\tself.B=None\n",
        "\t\telse:\n",
        "\t\t\tself.T=1/B\n",
        "\n",
        "\tdef randomize_state(self):\n",
        "\t\tself.s = np.random.randint(0,self.q,(self.L,self.L))\n",
        "\n",
        "\tdef MetropolisStep(self):\t    #Execute step of Metropolis algorithm\n",
        "\t\ti = np.random.randint(self.L)\t\t#row\n",
        "\t\tj = np.random.randint(self.L)\t\t#column\n",
        "\t\tsnew = np.random.randint(self.q)\t#target state\n",
        "\t\t\n",
        "\t\teDiff = self.h[self.s[i,j]]-self.h[snew]\n",
        "\t\teDiff+= self.J*(int(self.s[i,j]==self.s[(i+1)%self.L,j])-int(snew==self.s[(i+1)%self.L,j]))\t#up\n",
        "\t\teDiff+= self.J*(int(self.s[i,j]==self.s[(i-1)%self.L,j])-int(snew==self.s[(i-1)%self.L,j]))\t#down\n",
        "\t\teDiff+= self.J*(int(self.s[i,j]==self.s[i,(j+1)%self.L])-int(snew==self.s[i,(j+1)%self.L]))\t#right\n",
        "\t\teDiff+= self.J*(int(self.s[i,j]==self.s[i,(j-1)%self.L])-int(snew==self.s[i,(j-1)%self.L]))\t#left\n",
        "\t\tif eDiff <= 0 or np.random.rand() < np.exp(-self.beta*eDiff):    # Metropolis!\n",
        "\t\t\tself.s[i,j] = snew\n",
        "\t\t\t\n",
        "\tdef Energy(self):\n",
        "\t\tE=0\n",
        "\t\tfor i in range(self.L):\n",
        "\t\t\tfor j in range(self.L):\n",
        "\t\t\t\tE-= self.h[self.s[i,j]]\n",
        "\t\t\t\tE-= self.J*int(self.s[i,j]==self.s[(i+1)%self.L,j])\t#up\n",
        "\t\t\t\tE-= self.J*int(self.s[i,j]==self.s[(i-1)%self.L,j])\t#down\n",
        "\t\t\t\tE-= self.J*int(self.s[i,j]==self.s[i,(j+1)%self.L])\t#right\n",
        "\t\t\t\tE-= self.J*int(self.s[i,j]==self.s[i,(j-1)%self.L])\t#left\n",
        "\t\treturn(E)"
      ],
      "execution_count": null,
      "outputs": []
    },
    {
      "cell_type": "code",
      "metadata": {
        "colab": {
          "base_uri": "https://localhost:8080/",
          "height": 610
        },
        "id": "lFNVwIXwQueT",
        "outputId": "4d0f2c65-3b8c-4f40-bb67-65ce431cd224"
      },
      "source": [
        "L=5\n",
        "q=3\n",
        "size=L**2\n",
        "\n",
        "P=potts(L,q)\n",
        "\n",
        "print(P.s)\n",
        "\n",
        "\n",
        "fig = plt.figure()\n",
        "im = plt.imshow(P.s)\n",
        "\n",
        "viz = [np.array(P.s)]\n",
        "\n",
        "Nbetas=5#21\n",
        "betas=10**np.linspace(-0.25,0.25,Nbetas)\n",
        "C=np.zeros(Nbetas)\n",
        "\n",
        "for bind in range(Nbetas):\n",
        "\tP.set_beta(betas[bind])\n",
        "\tT=10000\n",
        "\tE=np.zeros(T)\n",
        "\tfor t in range(T):\n",
        "\t\tfor rep in range(L**2):\n",
        "\t\t\tP.MetropolisStep()\n",
        "\t\tE[t]=P.Energy()\n",
        "\t\tviz += [np.array(P.s)]\n",
        "\n",
        "\tC[bind]=betas[bind]*np.var(E)/size\n",
        "\n",
        "Bc=np.log(1+np.sqrt(q))\n",
        "\n",
        "\n",
        "plt.figure()\n",
        "plt.semilogx(betas,C)\n",
        "plt.semilogx([Bc,Bc],[0,np.max(C)*1.05],'--k')\n",
        "plt.show()"
      ],
      "execution_count": null,
      "outputs": [
        {
          "output_type": "stream",
          "text": [
            "[[1 1 1 0 1]\n",
            " [0 2 1 2 0]\n",
            " [2 0 0 1 1]\n",
            " [2 2 0 0 1]\n",
            " [2 1 1 0 2]]\n"
          ],
          "name": "stdout"
        },
        {
          "output_type": "display_data",
          "data": {
            "image/png": "[encoded data removed]",
            "text/plain": [
              "<Figure size 432x288 with 1 Axes>"
            ]
          },
          "metadata": {
            "tags": [],
            "needs_background": "light"
          }
        },
        {
          "output_type": "display_data",
          "data": {
            "image/png": "[encoded data removed]",
            "text/plain": [
              "<Figure size 432x288 with 1 Axes>"
            ]
          },
          "metadata": {
            "tags": [],
            "needs_background": "light"
          }
        }
      ]
    },
    {
      "cell_type": "code",
      "metadata": {
        "id": "Bq4FDskz1bVL"
      },
      "source": [
        "print(len(viz), viz[0].shape)\n",
        "\n",
        "fig = plt.figure()\n",
        "im = plt.imshow(viz[0])\n",
        "# plt.show()\n",
        "\n",
        "def show(im, fig, array):\n",
        "    for s in array:\n",
        "        im.set_data(s)\n",
        "        fig.canvas.flush_events()\n",
        "        # time.sleep(0.03)\n",
        "        # clear_output(wait=True)\n",
        "\n",
        "show(im, fig, viz)"
      ],
      "execution_count": null,
      "outputs": []
    },
    {
      "cell_type": "markdown",
      "metadata": {
        "id": "WBkxrsayy7b5"
      },
      "source": [
        "# CPM"
      ]
    },
    {
      "cell_type": "code",
      "metadata": {
        "id": "QqdlsTwlO7zW"
      },
      "source": [
        "import numpy as np\n",
        "from skimage import measure\n",
        "\n",
        "class CPM:\n",
        "\tdef __init__(self, L,cells=[1],V0=None,th=1):\t#Create Potts model\n",
        "\t\n",
        "\t\tself.L=L\t\t#lattice length/width\n",
        "\t\tself.size=L**2\t#model size\n",
        "\t\tself.cells=cells\n",
        "\t\tself.c=1+np.sum(self.cells)\n",
        "\t\tself.q=1+len(self.cells)\t\t#number of states\n",
        "\t\tself.J=np.zeros((self.q,self.q))\t#couplings\n",
        "\t\tself.th = th\t# volume constraint\n",
        "\t\tself.type = [0]\n",
        "\t\ti=0\n",
        "\t\tfor c in self.cells:\n",
        "\t\t\ti+=1\n",
        "\t\t\tfor rep in range(c):\n",
        "\t\t\t\tself.type+=[i]\n",
        "\t\t\t\t\n",
        "\t\tif V0 is None:\n",
        "\t\t\tself.V0=int(np.round(L*L/(self.c-1)*0.5))\n",
        "\t\telse:\n",
        "\t\t\tself.V0=V0\n",
        "\t\t\t\n",
        "\t\tself.randomize_couplings()\n",
        "\t\tself.initialize_state()\n",
        "\t\tself.set_temp()\n",
        "\t\t\n",
        "\t\t\n",
        "\tdef set_temp(self,T=1):\n",
        "\t\tself.T=1.0\n",
        "\t\tself.beta=1.0/self.T\n",
        "\t\t\n",
        "\t\t\n",
        "\tdef set_beta(self,B):\n",
        "\t\tself.beta=B\n",
        "\t\tif B==0:\n",
        "\t\t\tself.B=None\n",
        "\t\telse:\n",
        "\t\t\tself.T=1/B\n",
        "\t\n",
        "\t\n",
        "\tdef randomize_couplings(self):\n",
        "\t\tfor i in range(self.q):\n",
        "\t\t\tfor j in range(i,self.q):\n",
        "\t\t\t\tself.J[i,j]=np.random.rand()\n",
        "\t\t\t\tif not i==j:\n",
        "\t\t\t\t\tself.J[j,i]=self.J[i,j]\n",
        "\t\tself.J[0,0]=0\n",
        "\t\t\n",
        "\t\t\t\n",
        "\tdef initialize_state(self):\n",
        "#\t\tself.s = np.random.randint(0,self.c,(self.L,self.L))\n",
        "\t\tself.s=np.zeros((self.L,self.L),int)\t#add starting cells in random positions\n",
        "\t\tfor ind in range(1,self.c):\n",
        "\t\t\ti,j = np.random.randint(1,self.L-1,2)\t# row,column of cell, borders are forbidden\n",
        "\t\t\tself.s[i,j]=ind\n",
        "\t\tself.VE = self.volume_energy(self.s)\n",
        "\n",
        "\n",
        "\tdef volume_energy(self,s):\n",
        "\t\tunique, counts = np.unique(s, return_counts=True)\n",
        "\t\tV=counts[1:]\n",
        "\t\treturn self.th/(2*self.V0)*np.sum((V-self.V0)**2)\n",
        "\t\t\n",
        "\t\t#old code computing areas of connected blobs\n",
        "#\t\tcells= measure.label(s,connectivity=1)\n",
        "#\t\tprops=measure.regionprops(cells)\n",
        "#\t\tprint('areas',[prop.filled_area for prop in props])\n",
        "#\t\treturn np.sum([(prop.filled_area-self.V0)**2 for prop in props])\n",
        "\n",
        "\n",
        "\tdef get_neighbors(self,i,j):\t# Get the array of Von Newmann neighbors of a cell\n",
        "\t\tnn = []\n",
        "\t\tnn+=[self.s[(i+1)%self.L,j]]\t#up\n",
        "\t\tnn+=[self.s[(i-1)%self.L,j]]\t#down\n",
        "\t\tnn+=[self.s[i,(j-1)%self.L]]\t#left\n",
        "\t\tnn+=[self.s[i,(j+1)%self.L]]\t#right\n",
        "\n",
        "\t\treturn np.array(nn)\n",
        "\t\t\t\n",
        "\t\t\t\n",
        "\tdef get_moore_neighbors(self,i,j):\t# Get the array of Moore neighbors of a cell\n",
        "\t\tnn = []\n",
        "\t\tnn+=[self.s[(i+1)%self.L,(j-1)%self.L]]\t#up-left\n",
        "\t\tnn+=[self.s[(i+1)%self.L,j]]\t\t\t#up\n",
        "\t\tnn+=[self.s[(i+1)%self.L,(j+1)%self.L]]\t#up-right\n",
        "\t\tnn+=[self.s[i,(j+1)%self.L]]\t\t\t#right\n",
        "\t\tnn+=[self.s[(i-1)%self.L,(j+1)%self.L]]\t#down-right\n",
        "\t\tnn+=[self.s[(i-1)%self.L,j]]\t\t\t#down\n",
        "\t\tnn+=[self.s[(i-1)%self.L,(j-1)%self.L]]\t#down-left\n",
        "\t\tnn+=[self.s[i,(j-1)%self.L]]\t\t\t#left\n",
        "\t\treturn np.array(nn)\t\n",
        "\t\t\n",
        "\t\t\n",
        "\tdef is_locally_connected(self,cell_domain): # Detect local connectivity\n",
        "\t\t# cell_domain should be 1 if cell is present and 0 otherwise\n",
        "\t\ttransitions=0\n",
        "\t\tis_connected=False\n",
        "\t\tif np.sum(cell_domain)>0:\n",
        "\t\t\tfor i in range(8):\n",
        "\t\t\t\tif cell_domain[i]<cell_domain[(i+1)%8]:\t# +1 if transition from 0 to 1\n",
        "\t\t\t\t\ttransitions+=1\n",
        "\t\t\tif transitions<=1:\n",
        "\t\t\t\tis_connected=True\n",
        "\t\treturn is_connected\n",
        "\n",
        "\n",
        "\n",
        "\tdef MetropolisStep(self,mode='CA'):\t    # Execute step of Metropolis algorithm\n",
        "\t\t\n",
        "\t\t#Select candidate and target nodes\t\n",
        "\t\tif mode=='MMA':\n",
        "\t\t\ti,j = np.random.randint(1,self.L-1,2)\t# row,column of cell, borders are forbidden\n",
        "\t\t\tnn=self.get_neighbors(i,j)\t\t\t\t# array of cell neighbors \n",
        "\t\t\tsijnew = nn[np.random.randint(len(nn))]\t\t# target state\n",
        "\t\t\tcond = sijnew!=self.s[i,j]\n",
        "\t\t\t\n",
        "\t\tif mode=='CA':\n",
        "\t\t\ti,j = np.random.randint(1,self.L-1,2)\t# row,column of cell\n",
        "\t\t\tnn=self.get_neighbors(i,j)\t\t\t\t# array of cell neighbors \n",
        "\t\t\tnn_unique=np.unique(nn)\n",
        "\t\t\tsijnew = nn_unique[np.random.randint(len(nn_unique))]\t\t# target state\n",
        "\t\t\tdomain=self.get_moore_neighbors(i,j)\n",
        "\t\t\tlc_candidate=self.is_locally_connected(domain==self.s[i,j])\n",
        "\t\t\tlc_target=self.is_locally_connected(domain==sijnew)\n",
        "\t\t\tcond = lc_candidate and lc_target and sijnew!=self.s[i,j]\n",
        "\n",
        "\t\t\t\n",
        "\t\t#Evaluate acceptance of change\n",
        "\t\tif cond:\n",
        "\t\t\teDiff = 0\n",
        "\t\t\t\n",
        "\t\t\tcoupling_neighbors=self.get_neighbors(i,j)\n",
        "\t\t\t#Compute adhesion energy difference\n",
        "\t\t\tfor sn in coupling_neighbors:\n",
        "\t\t\t\teDiff+= self.J[self.type[sijnew],self.type[sn]]*int(sijnew!=sn) - self.J[self.type[self.s[i,j]],self.type[sn]]*int(self.s[i,j]!=sn) \n",
        "\t\t\t#Compute volume energy difference\n",
        "\t\t\tsnew=self.s.copy()\n",
        "\t\t\tsnew[i,j] = sijnew\n",
        "\t\t\tVEnew = self.volume_energy(snew)\n",
        "\t\t\teDiff += VEnew - self.VE\n",
        "\t\t\tif eDiff <= 0 or np.log(np.random.rand()) < -self.beta*eDiff:    # Metropolis\n",
        "\t\t\t\tself.s[i,j] = sijnew\n",
        "\t\t\t\tself.VE = VEnew\n",
        "\t\t\t\t\n",
        "\n",
        "\tdef Energy(self):\n",
        "\t\tE=self.volume_energy(self.s)\n",
        "\t\tfor i in range(self.L):\n",
        "\t\t\tfor j in range(self.L):\n",
        "\t\t\t\tif self.s[i,j]>0:\n",
        "\t\t\t\t\tcoupling_neighbors=self.get_neighbors(i,j)\n",
        "\t\t\t\t\t#Compute adhesion energy difference\n",
        "\t\t\t\t\tfor sn in coupling_neighbors:\n",
        "\t\t\t\t\t\tif sn<self.s[i,j]:\t#we compute each link just once\n",
        "\t\t\t\t\t\t\tE+= self.J[self.type[self.s[i,j]],self.type[sn]]*int(self.s[i,j]!=sn)\n",
        "\t\treturn(E)"
      ],
      "execution_count": null,
      "outputs": []
    },
    {
      "cell_type": "code",
      "metadata": {
        "colab": {
          "base_uri": "https://localhost:8080/",
          "height": 1000
        },
        "id": "X-Wv26lNPNbj",
        "outputId": "f0a7dc8b-bfcf-4147-b236-0336bc25cbca"
      },
      "source": [
        "#Transform bool array into positive integer\n",
        "def bool2int(x):\t\t\t\t\n",
        "    y = 0\n",
        "    for i,j in enumerate(np.array(x)[::-1]):\n",
        "        y += j*2**i\n",
        "    return int(y)\n",
        "    \n",
        "#Transform positive integer into bit array\n",
        "def bitfield(n,size):\t\n",
        "    x = [int(x) for x in bin(int(n))[2:]]\n",
        "    x = [0]*(size-len(x)) + x\n",
        "    return np.array(x)\n",
        "    \n",
        "      \n",
        "L=4\n",
        "size=L**2\n",
        "V0=3\n",
        "\n",
        "cells=[1]\n",
        "\n",
        "C=CPM(L,cells=cells,V0=V0)\n",
        "\n",
        "C.J=np.array([[0,1],[1,0]])*1\n",
        "C.th=3\n",
        "\n",
        "T=10000\n",
        "T0=int(T/10)\n",
        "\n",
        "import timeit\n",
        "start_time = timeit.default_timer()\n",
        "\n",
        "\n",
        "P=np.zeros(2**((L-2)**2))\n",
        "K=np.zeros(1+(L-2)**2)\n",
        "\n",
        "\n",
        "allowed=set()\n",
        "C.initialize_state()\n",
        "\n",
        "\n",
        "plt.figure()\n",
        "plt.imshow(C.s)\n",
        "\n",
        "for t in range(T0):\n",
        "\t\tfor rep in range(1+(L-2)**2):\n",
        "\t\t\tC.MetropolisStep(mode='CA')\n",
        "for t in range(T):\n",
        "\t\tfor rep in range(1+(L-2)**2):\n",
        "\t\t\tC.MetropolisStep(mode='CA')\n",
        "\t\tind=bool2int(C.s[1:-1,1:-1].flatten())\n",
        "\t\tallowed.add(ind)\n",
        "#\t\tprint()\n",
        "#\t\tprint(C.s[1:-1,1:-1])\n",
        "#\t\tprint(bitfield(ind,(L-2)**2).reshape((L-2,L-2)))\n",
        "\t\tP[ind]+=1\n",
        "\t\tK[np.sum(C.s[1:-1,1:-1])]+=1\n",
        "\t\t\n",
        "P/=np.sum(P)\n",
        "\n",
        "# code you want to evaluate\n",
        "elapsed = timeit.default_timer() - start_time\n",
        "K/=np.sum(K)\n",
        "\n",
        "plt.figure()\n",
        "plt.imshow(C.s)\n",
        "\n",
        "a=np.array([[0,1],[1,0]])\n",
        "# print(a.flatten())\n",
        "# print(bool2int(a.flatten()))\n",
        "\t\t\n",
        "# print(C.J)\n",
        "\n",
        "P1=np.zeros(2**((L-2)**2))\n",
        "K1=np.zeros(1+(L-2)**2)\n",
        "#forbidden=[0,6,9]\n",
        "for n in range(2**((L-2)**2)):\n",
        "#\tif not n in forbidden:\n",
        "\tif n in allowed:\n",
        "\t\tC.s[1:-1,1:-1]=bitfield(n,(L-2)**2).reshape((L-2,L-2))\n",
        "\t\t# print(n)\n",
        "\t\t# print(bitfield(n,(L-2)**2).reshape((L-2,L-2)))\n",
        "\t\tE=C.Energy()\n",
        "\t\tP1[n]=np.exp(-E)\n",
        "\t\tK1[np.sum(C.s[1:-1,1:-1])]+=np.exp(-E)\n",
        "\n",
        "P1/=np.sum(P1)\n",
        "K1/=np.sum(K1)\n",
        "\n",
        "\n",
        "plt.figure()\n",
        "plt.plot(P)\n",
        "plt.plot(P1)\n",
        "plt.figure()\n",
        "plt.plot(K)\n",
        "plt.plot(K1)\n",
        "\n",
        "plt.show()"
      ],
      "execution_count": null,
      "outputs": [
        {
          "output_type": "display_data",
          "data": {
            "image/png": "[encoded data removed]",
            "text/plain": [
              "<Figure size 432x288 with 1 Axes>"
            ]
          },
          "metadata": {
            "tags": [],
            "needs_background": "light"
          }
        },
        {
          "output_type": "display_data",
          "data": {
            "image/png": "[encoded data removed]",
            "text/plain": [
              "<Figure size 432x288 with 1 Axes>"
            ]
          },
          "metadata": {
            "tags": [],
            "needs_background": "light"
          }
        },
        {
          "output_type": "display_data",
          "data": {
            "image/png": "[encoded data removed]",
            "text/plain": [
              "<Figure size 432x288 with 1 Axes>"
            ]
          },
          "metadata": {
            "tags": [],
            "needs_background": "light"
          }
        },
        {
          "output_type": "display_data",
          "data": {
            "image/png": "[encoded data removed]",
            "text/plain": [
              "<Figure size 432x288 with 1 Axes>"
            ]
          },
          "metadata": {
            "tags": [],
            "needs_background": "light"
          }
        }
      ]
    },
    {
      "cell_type": "code",
      "metadata": {
        "id": "zTeFPXVhPVbO"
      },
      "source": [
        ""
      ],
      "execution_count": null,
      "outputs": []
    }
  ]
}