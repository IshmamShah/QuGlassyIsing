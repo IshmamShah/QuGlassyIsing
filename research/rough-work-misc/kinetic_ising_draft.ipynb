{
  "nbformat": 4,
  "nbformat_minor": 0,
  "metadata": {
    "colab": {
      "name": "kinetic-ising-draft",
      "provenance": []
    },
    "kernelspec": {
      "name": "python3",
      "display_name": "Python 3"
    },
    "language_info": {
      "name": "python"
    }
  },
  "cells": [
    {
      "cell_type": "code",
      "metadata": {
        "id": "fuW36bvJ17Yx"
      },
      "source": [
        ""
      ],
      "execution_count": null,
      "outputs": []
    },
    {
      "cell_type": "code",
      "metadata": {
        "colab": {
          "base_uri": "https://localhost:8080/"
        },
        "id": "sHo6uThe2b9B",
        "outputId": "dd0adf2e-66db-4fcc-fb2e-64b968d4d7f6"
      },
      "source": [
        "!pip install qiskit==0.26.2 #==0.13.0"
      ],
      "execution_count": null,
      "outputs": [
        {
          "output_type": "stream",
          "text": [
            "Requirement already satisfied: qiskit==0.26.2 in /usr/local/lib/python3.7/dist-packages (0.26.2)\n",
            "Requirement already satisfied: qiskit-ibmq-provider==0.13.1 in /usr/local/lib/python3.7/dist-packages (from qiskit==0.26.2) (0.13.1)\n",
            "Requirement already satisfied: qiskit-terra==0.17.4 in /usr/local/lib/python3.7/dist-packages (from qiskit==0.26.2) (0.17.4)\n",
            "Requirement already satisfied: qiskit-ignis==0.6.0 in /usr/local/lib/python3.7/dist-packages (from qiskit==0.26.2) (0.6.0)\n",
            "Requirement already satisfied: qiskit-aer==0.8.2 in /usr/local/lib/python3.7/dist-packages (from qiskit==0.26.2) (0.8.2)\n",
            "Requirement already satisfied: qiskit-aqua==0.9.1 in /usr/local/lib/python3.7/dist-packages (from qiskit==0.26.2) (0.9.1)\n",
            "Requirement already satisfied: requests-ntlm>=1.1.0 in /usr/local/lib/python3.7/dist-packages (from qiskit-ibmq-provider==0.13.1->qiskit==0.26.2) (1.1.0)\n",
            "Requirement already satisfied: numpy>=1.13 in /usr/local/lib/python3.7/dist-packages (from qiskit-ibmq-provider==0.13.1->qiskit==0.26.2) (1.19.5)\n",
            "Requirement already satisfied: dill>=0.3 in /usr/local/lib/python3.7/dist-packages (from qiskit-ibmq-provider==0.13.1->qiskit==0.26.2) (0.3.3)\n",
            "Requirement already satisfied: websockets>=8 in /usr/local/lib/python3.7/dist-packages (from qiskit-ibmq-provider==0.13.1->qiskit==0.26.2) (9.0.2)\n",
            "Requirement already satisfied: urllib3>=1.21.1 in /usr/local/lib/python3.7/dist-packages (from qiskit-ibmq-provider==0.13.1->qiskit==0.26.2) (1.24.3)\n",
            "Requirement already satisfied: python-dateutil>=2.8.0 in /usr/local/lib/python3.7/dist-packages (from qiskit-ibmq-provider==0.13.1->qiskit==0.26.2) (2.8.1)\n",
            "Requirement already satisfied: nest-asyncio!=1.1.0,>=1.0.0 in /usr/local/lib/python3.7/dist-packages (from qiskit-ibmq-provider==0.13.1->qiskit==0.26.2) (1.5.1)\n",
            "Requirement already satisfied: requests>=2.19 in /usr/local/lib/python3.7/dist-packages (from qiskit-ibmq-provider==0.13.1->qiskit==0.26.2) (2.23.0)\n",
            "Requirement already satisfied: python-constraint>=1.4 in /usr/local/lib/python3.7/dist-packages (from qiskit-terra==0.17.4->qiskit==0.26.2) (1.4.0)\n",
            "Requirement already satisfied: fastjsonschema>=2.10 in /usr/local/lib/python3.7/dist-packages (from qiskit-terra==0.17.4->qiskit==0.26.2) (2.15.1)\n",
            "Requirement already satisfied: psutil>=5 in /usr/local/lib/python3.7/dist-packages (from qiskit-terra==0.17.4->qiskit==0.26.2) (5.4.8)\n",
            "Requirement already satisfied: jsonschema>=2.6 in /usr/local/lib/python3.7/dist-packages (from qiskit-terra==0.17.4->qiskit==0.26.2) (2.6.0)\n",
            "Requirement already satisfied: scipy>=1.4 in /usr/local/lib/python3.7/dist-packages (from qiskit-terra==0.17.4->qiskit==0.26.2) (1.4.1)\n",
            "Requirement already satisfied: sympy>=1.3 in /usr/local/lib/python3.7/dist-packages (from qiskit-terra==0.17.4->qiskit==0.26.2) (1.7.1)\n",
            "Requirement already satisfied: ply>=3.10 in /usr/local/lib/python3.7/dist-packages (from qiskit-terra==0.17.4->qiskit==0.26.2) (3.11)\n",
            "Requirement already satisfied: retworkx>=0.8.0 in /usr/local/lib/python3.7/dist-packages (from qiskit-terra==0.17.4->qiskit==0.26.2) (0.8.0)\n",
            "Requirement already satisfied: setuptools>=40.1.0 in /usr/local/lib/python3.7/dist-packages (from qiskit-ignis==0.6.0->qiskit==0.26.2) (56.1.0)\n",
            "Requirement already satisfied: pybind11>=2.6 in /usr/local/lib/python3.7/dist-packages (from qiskit-aer==0.8.2->qiskit==0.26.2) (2.6.2)\n",
            "Requirement already satisfied: yfinance<=0.1.55 in /usr/local/lib/python3.7/dist-packages (from qiskit-aqua==0.9.1->qiskit==0.26.2) (0.1.55)\n",
            "Requirement already satisfied: quandl<=3.6.0 in /usr/local/lib/python3.7/dist-packages (from qiskit-aqua==0.9.1->qiskit==0.26.2) (3.6.0)\n",
            "Requirement already satisfied: docplex<=2.20.204; sys_platform != \"darwin\" in /usr/local/lib/python3.7/dist-packages (from qiskit-aqua==0.9.1->qiskit==0.26.2) (2.20.204)\n",
            "Requirement already satisfied: h5py<=3.1.0 in /usr/local/lib/python3.7/dist-packages (from qiskit-aqua==0.9.1->qiskit==0.26.2) (3.1.0)\n",
            "Requirement already satisfied: dlx<=1.0.4 in /usr/local/lib/python3.7/dist-packages (from qiskit-aqua==0.9.1->qiskit==0.26.2) (1.0.4)\n",
            "Requirement already satisfied: fastdtw<=0.3.4 in /usr/local/lib/python3.7/dist-packages (from qiskit-aqua==0.9.1->qiskit==0.26.2) (0.3.4)\n",
            "Requirement already satisfied: scikit-learn<=0.24.1,>=0.20.0 in /usr/local/lib/python3.7/dist-packages (from qiskit-aqua==0.9.1->qiskit==0.26.2) (0.22.2.post1)\n",
            "Requirement already satisfied: pandas<=1.2.3 in /usr/local/lib/python3.7/dist-packages (from qiskit-aqua==0.9.1->qiskit==0.26.2) (1.1.5)\n",
            "Requirement already satisfied: ntlm-auth>=1.0.2 in /usr/local/lib/python3.7/dist-packages (from requests-ntlm>=1.1.0->qiskit-ibmq-provider==0.13.1->qiskit==0.26.2) (1.5.0)\n",
            "Requirement already satisfied: cryptography>=1.3 in /usr/local/lib/python3.7/dist-packages (from requests-ntlm>=1.1.0->qiskit-ibmq-provider==0.13.1->qiskit==0.26.2) (3.4.7)\n",
            "Requirement already satisfied: six>=1.5 in /usr/local/lib/python3.7/dist-packages (from python-dateutil>=2.8.0->qiskit-ibmq-provider==0.13.1->qiskit==0.26.2) (1.15.0)\n",
            "Requirement already satisfied: idna<3,>=2.5 in /usr/local/lib/python3.7/dist-packages (from requests>=2.19->qiskit-ibmq-provider==0.13.1->qiskit==0.26.2) (2.10)\n",
            "Requirement already satisfied: chardet<4,>=3.0.2 in /usr/local/lib/python3.7/dist-packages (from requests>=2.19->qiskit-ibmq-provider==0.13.1->qiskit==0.26.2) (3.0.4)\n",
            "Requirement already satisfied: certifi>=2017.4.17 in /usr/local/lib/python3.7/dist-packages (from requests>=2.19->qiskit-ibmq-provider==0.13.1->qiskit==0.26.2) (2020.12.5)\n",
            "Requirement already satisfied: mpmath>=0.19 in /usr/local/lib/python3.7/dist-packages (from sympy>=1.3->qiskit-terra==0.17.4->qiskit==0.26.2) (1.2.1)\n",
            "Requirement already satisfied: multitasking>=0.0.7 in /usr/local/lib/python3.7/dist-packages (from yfinance<=0.1.55->qiskit-aqua==0.9.1->qiskit==0.26.2) (0.0.9)\n",
            "Requirement already satisfied: lxml>=4.5.1 in /usr/local/lib/python3.7/dist-packages (from yfinance<=0.1.55->qiskit-aqua==0.9.1->qiskit==0.26.2) (4.6.3)\n",
            "Requirement already satisfied: inflection>=0.3.1 in /usr/local/lib/python3.7/dist-packages (from quandl<=3.6.0->qiskit-aqua==0.9.1->qiskit==0.26.2) (0.5.1)\n",
            "Requirement already satisfied: more-itertools in /usr/local/lib/python3.7/dist-packages (from quandl<=3.6.0->qiskit-aqua==0.9.1->qiskit==0.26.2) (8.7.0)\n",
            "Requirement already satisfied: cached-property; python_version < \"3.8\" in /usr/local/lib/python3.7/dist-packages (from h5py<=3.1.0->qiskit-aqua==0.9.1->qiskit==0.26.2) (1.5.2)\n",
            "Requirement already satisfied: joblib>=0.11 in /usr/local/lib/python3.7/dist-packages (from scikit-learn<=0.24.1,>=0.20.0->qiskit-aqua==0.9.1->qiskit==0.26.2) (1.0.1)\n",
            "Requirement already satisfied: pytz>=2017.2 in /usr/local/lib/python3.7/dist-packages (from pandas<=1.2.3->qiskit-aqua==0.9.1->qiskit==0.26.2) (2018.9)\n",
            "Requirement already satisfied: cffi>=1.12 in /usr/local/lib/python3.7/dist-packages (from cryptography>=1.3->requests-ntlm>=1.1.0->qiskit-ibmq-provider==0.13.1->qiskit==0.26.2) (1.14.5)\n",
            "Requirement already satisfied: pycparser in /usr/local/lib/python3.7/dist-packages (from cffi>=1.12->cryptography>=1.3->requests-ntlm>=1.1.0->qiskit-ibmq-provider==0.13.1->qiskit==0.26.2) (2.20)\n"
          ],
          "name": "stdout"
        }
      ]
    },
    {
      "cell_type": "code",
      "metadata": {
        "colab": {
          "base_uri": "https://localhost:8080/"
        },
        "id": "0BZv50ER1oPh",
        "outputId": "28f4ed45-c77f-4454-9f53-69e25c435373"
      },
      "source": [
        "from qiskit.providers.aer import QasmSimulator  \n",
        "from qiskit.algorithms import VQE\n",
        "from qiskit.algorithms.optimizers import COBYLA \n",
        "from qiskit.circuit.library import EfficientSU2\n",
        "# opflow is Qiskit's module for creating operators like yours\n",
        "from qiskit.opflow import Z, X, I  # Pauli Z, X matrices and identity\n",
        "\n",
        "h = 0.25  # or whatever value you have for h\n",
        "H = - h * ((X ^ I) + (I ^ X))\n",
        "\n",
        "# you can swap this for a real quantum device and keep the rest of the code the same!\n",
        "backend = QasmSimulator() \n",
        "\n",
        "# COBYLA usually works well for small problems like this one\n",
        "optimizer = COBYLA(maxiter=200)\n",
        "\n",
        "# EfficientSU2 is a standard heuristic chemistry ansatz from Qiskit's circuit library\n",
        "ansatz = EfficientSU2(2, reps=1)\n",
        "\n",
        "# set the algorithm\n",
        "vqe = VQE(ansatz, optimizer, quantum_instance=backend)\n",
        "\n",
        "# run it with the Hamiltonian we defined above\n",
        "result = vqe.compute_minimum_eigenvalue(H)  \n",
        "\n",
        "# print the result (it contains lot's of information)\n",
        "print(result) "
      ],
      "execution_count": null,
      "outputs": [
        {
          "output_type": "stream",
          "text": [
            "{   'aux_operator_eigenvalues': None,\n",
            "    'cost_function_evals': 93,\n",
            "    'eigenstate': {   '00': 0.4881406047441659,\n",
            "                      '01': 0.5067898356320892,\n",
            "                      '10': 0.49311668243935936,\n",
            "                      '11': 0.5115845482420281},\n",
            "    'eigenvalue': -0.49951171875,\n",
            "    'optimal_parameters': {   ParameterVectorElement(θ[5]): -0.005963564918571073,\n",
            "                              ParameterVectorElement(θ[6]): 3.4679057346080238,\n",
            "                              ParameterVectorElement(θ[7]): 0.06761013048071884,\n",
            "                              ParameterVectorElement(θ[3]): -0.037457635289982194,\n",
            "                              ParameterVectorElement(θ[4]): -2.4785608272501425,\n",
            "                              ParameterVectorElement(θ[1]): 1.5543178794741934,\n",
            "                              ParameterVectorElement(θ[2]): 0.44253663321918507,\n",
            "                              ParameterVectorElement(θ[0]): 0.9563573926735457},\n",
            "    'optimal_point': array([ 0.95635739,  1.55431788,  0.44253663, -0.03745764, -2.47856083,\n",
            "       -0.00596356,  3.46790573,  0.06761013]),\n",
            "    'optimal_value': -0.49951171875,\n",
            "    'optimizer_evals': 93,\n",
            "    'optimizer_time': 0.4424128532409668}\n"
          ],
          "name": "stdout"
        }
      ]
    }
  ]
}