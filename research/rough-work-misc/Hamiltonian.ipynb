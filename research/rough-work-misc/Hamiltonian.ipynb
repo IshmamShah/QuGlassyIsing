{
  "nbformat": 4,
  "nbformat_minor": 0,
  "metadata": {
    "colab": {
      "name": "Hamiltonian.ipynb",
      "provenance": []
    },
    "kernelspec": {
      "name": "python3",
      "display_name": "Python 3"
    },
    "language_info": {
      "name": "python"
    }
  },
  "cells": [
    {
      "cell_type": "code",
      "metadata": {
        "id": "82biulqJLRGm",
        "colab": {
          "base_uri": "https://localhost:8080/"
        },
        "outputId": "e926b94c-c665-4d35-9850-82240a12b402"
      },
      "source": [
        "!pip install docplex"
      ],
      "execution_count": null,
      "outputs": [
        {
          "output_type": "stream",
          "text": [
            "Collecting docplex\n",
            "\u001b[?25l  Downloading https://files.pythonhosted.org/packages/87/99/6f7c219b39fd58c84688ad0713eb932bfcf6be81fc74519e43ea9c915b56/docplex-2.20.204.tar.gz (611kB)\n",
            "\r\u001b[K     |▌                               | 10kB 14.8MB/s eta 0:00:01\r\u001b[K     |█                               | 20kB 9.6MB/s eta 0:00:01\r\u001b[K     |█▋                              | 30kB 5.7MB/s eta 0:00:01\r\u001b[K     |██▏                             | 40kB 5.4MB/s eta 0:00:01\r\u001b[K     |██▊                             | 51kB 2.7MB/s eta 0:00:01\r\u001b[K     |███▏                            | 61kB 3.2MB/s eta 0:00:01\r\u001b[K     |███▊                            | 71kB 3.5MB/s eta 0:00:01\r\u001b[K     |████▎                           | 81kB 3.7MB/s eta 0:00:01\r\u001b[K     |████▉                           | 92kB 3.8MB/s eta 0:00:01\r\u001b[K     |█████▍                          | 102kB 3.9MB/s eta 0:00:01\r\u001b[K     |██████                          | 112kB 3.9MB/s eta 0:00:01\r\u001b[K     |██████▍                         | 122kB 3.9MB/s eta 0:00:01\r\u001b[K     |███████                         | 133kB 3.9MB/s eta 0:00:01\r\u001b[K     |███████▌                        | 143kB 3.9MB/s eta 0:00:01\r\u001b[K     |████████                        | 153kB 3.9MB/s eta 0:00:01\r\u001b[K     |████████▋                       | 163kB 3.9MB/s eta 0:00:01\r\u001b[K     |█████████▏                      | 174kB 3.9MB/s eta 0:00:01\r\u001b[K     |█████████▋                      | 184kB 3.9MB/s eta 0:00:01\r\u001b[K     |██████████▏                     | 194kB 3.9MB/s eta 0:00:01\r\u001b[K     |██████████▊                     | 204kB 3.9MB/s eta 0:00:01\r\u001b[K     |███████████▎                    | 215kB 3.9MB/s eta 0:00:01\r\u001b[K     |███████████▉                    | 225kB 3.9MB/s eta 0:00:01\r\u001b[K     |████████████▎                   | 235kB 3.9MB/s eta 0:00:01\r\u001b[K     |████████████▉                   | 245kB 3.9MB/s eta 0:00:01\r\u001b[K     |█████████████▍                  | 256kB 3.9MB/s eta 0:00:01\r\u001b[K     |██████████████                  | 266kB 3.9MB/s eta 0:00:01\r\u001b[K     |██████████████▌                 | 276kB 3.9MB/s eta 0:00:01\r\u001b[K     |███████████████                 | 286kB 3.9MB/s eta 0:00:01\r\u001b[K     |███████████████▌                | 296kB 3.9MB/s eta 0:00:01\r\u001b[K     |████████████████                | 307kB 3.9MB/s eta 0:00:01\r\u001b[K     |████████████████▋               | 317kB 3.9MB/s eta 0:00:01\r\u001b[K     |█████████████████▏              | 327kB 3.9MB/s eta 0:00:01\r\u001b[K     |█████████████████▊              | 337kB 3.9MB/s eta 0:00:01\r\u001b[K     |██████████████████▎             | 348kB 3.9MB/s eta 0:00:01\r\u001b[K     |██████████████████▊             | 358kB 3.9MB/s eta 0:00:01\r\u001b[K     |███████████████████▎            | 368kB 3.9MB/s eta 0:00:01\r\u001b[K     |███████████████████▉            | 378kB 3.9MB/s eta 0:00:01\r\u001b[K     |████████████████████▍           | 389kB 3.9MB/s eta 0:00:01\r\u001b[K     |█████████████████████           | 399kB 3.9MB/s eta 0:00:01\r\u001b[K     |█████████████████████▌          | 409kB 3.9MB/s eta 0:00:01\r\u001b[K     |██████████████████████          | 419kB 3.9MB/s eta 0:00:01\r\u001b[K     |██████████████████████▌         | 430kB 3.9MB/s eta 0:00:01\r\u001b[K     |███████████████████████         | 440kB 3.9MB/s eta 0:00:01\r\u001b[K     |███████████████████████▋        | 450kB 3.9MB/s eta 0:00:01\r\u001b[K     |████████████████████████▏       | 460kB 3.9MB/s eta 0:00:01\r\u001b[K     |████████████████████████▋       | 471kB 3.9MB/s eta 0:00:01\r\u001b[K     |█████████████████████████▏      | 481kB 3.9MB/s eta 0:00:01\r\u001b[K     |█████████████████████████▊      | 491kB 3.9MB/s eta 0:00:01\r\u001b[K     |██████████████████████████▎     | 501kB 3.9MB/s eta 0:00:01\r\u001b[K     |██████████████████████████▉     | 512kB 3.9MB/s eta 0:00:01\r\u001b[K     |███████████████████████████▍    | 522kB 3.9MB/s eta 0:00:01\r\u001b[K     |███████████████████████████▉    | 532kB 3.9MB/s eta 0:00:01\r\u001b[K     |████████████████████████████▍   | 542kB 3.9MB/s eta 0:00:01\r\u001b[K     |█████████████████████████████   | 552kB 3.9MB/s eta 0:00:01\r\u001b[K     |█████████████████████████████▌  | 563kB 3.9MB/s eta 0:00:01\r\u001b[K     |██████████████████████████████  | 573kB 3.9MB/s eta 0:00:01\r\u001b[K     |██████████████████████████████▋ | 583kB 3.9MB/s eta 0:00:01\r\u001b[K     |███████████████████████████████ | 593kB 3.9MB/s eta 0:00:01\r\u001b[K     |███████████████████████████████▋| 604kB 3.9MB/s eta 0:00:01\r\u001b[K     |████████████████████████████████| 614kB 3.9MB/s \n",
            "\u001b[?25hRequirement already satisfied: requests in /usr/local/lib/python3.7/dist-packages (from docplex) (2.23.0)\n",
            "Requirement already satisfied: six in /usr/local/lib/python3.7/dist-packages (from docplex) (1.15.0)\n",
            "Requirement already satisfied: chardet<4,>=3.0.2 in /usr/local/lib/python3.7/dist-packages (from requests->docplex) (3.0.4)\n",
            "Requirement already satisfied: urllib3!=1.25.0,!=1.25.1,<1.26,>=1.21.1 in /usr/local/lib/python3.7/dist-packages (from requests->docplex) (1.24.3)\n",
            "Requirement already satisfied: certifi>=2017.4.17 in /usr/local/lib/python3.7/dist-packages (from requests->docplex) (2020.12.5)\n",
            "Requirement already satisfied: idna<3,>=2.5 in /usr/local/lib/python3.7/dist-packages (from requests->docplex) (2.10)\n",
            "Building wheels for collected packages: docplex\n",
            "  Building wheel for docplex (setup.py) ... \u001b[?25l\u001b[?25hdone\n",
            "  Created wheel for docplex: filename=docplex-2.20.204-cp37-none-any.whl size=675362 sha256=7999439cd72d35aaf7847092b17ce608e70eacade8326986ead51f42c2bb84b3\n",
            "  Stored in directory: /root/.cache/pip/wheels/ae/2c/e2/a099ebb6fda8adeba9c5fc2e25659d195ad2f5c6cc5fb75fd4\n",
            "Successfully built docplex\n",
            "Installing collected packages: docplex\n",
            "Successfully installed docplex-2.20.204\n"
          ],
          "name": "stdout"
        }
      ]
    },
    {
      "cell_type": "code",
      "metadata": {
        "id": "TqMlowmXLjS1"
      },
      "source": [
        "!pip install qiskit"
      ],
      "execution_count": null,
      "outputs": []
    },
    {
      "cell_type": "code",
      "metadata": {
        "colab": {
          "base_uri": "https://localhost:8080/"
        },
        "id": "eub_fVAKI92b",
        "outputId": "773a3f91-2dc7-4266-e5f1-32c1a1eb1905"
      },
      "source": [
        "# required imports\n",
        "from docplex.mp.model import Model\n",
        "from qiskit.optimization.problems import QuadraticProgram\n",
        "from qiskit.optimization.converters import QuadraticProgramToQubo\n",
        "\n",
        "# specify problem\n",
        "n = 3\n",
        "a = 1.0\n",
        "k = 2\n",
        "t = range(1, n+1)\n",
        "\n",
        "# build model with docplex\n",
        "mdl = Model()\n",
        "x = [mdl.binary_var() for i in range(n)]\n",
        "objective = a*(k - mdl.sum(t[i]*x[i] for i in range(n)))**2\n",
        "\n",
        "mdl.minimize(objective)\n",
        "\n",
        "# convert to Qiskit's quadratic program\n",
        "qp = QuadraticProgram()\n",
        "qp.from_docplex(mdl)\n",
        "\n",
        "print(qp.export_as_lp_string)\n",
        "\n",
        "print(type(qp))\n",
        "# convert to Ising Hamiltonian\n",
        "#qp2ising = QuadraticProgramToQubo()\n",
        "#H, offset = qp2ising.encode(qp)\n",
        "#print('Offset:', offset)\n",
        "#print('Ising Hamiltonian:')\n",
        "#print(H.print_details())"
      ],
      "execution_count": null,
      "outputs": [
        {
          "output_type": "stream",
          "text": [
            "<bound method QuadraticProgram.export_as_lp_string of \\ This file has been generated by DOcplex\n",
            "\\ ENCODING=ISO-8859-1\n",
            "\\Problem name: docplex_model10\n",
            "\n",
            "Minimize\n",
            " obj: - 4 x0 - 8 x1 - 12 x2 + [ 2 x0^2 + 8 x0*x1 + 12 x0*x2 + 8 x1^2 + 24 x1*x2\n",
            "      + 18 x2^2 ]/2 + 4\n",
            "Subject To\n",
            "\n",
            "Bounds\n",
            " 0 <= x0 <= 1\n",
            " 0 <= x1 <= 1\n",
            " 0 <= x2 <= 1\n",
            "\n",
            "Binaries\n",
            " x0 x1 x2\n",
            "End\n",
            ">\n",
            "<class 'qiskit.optimization.problems.quadratic_program.QuadraticProgram'>\n"
          ],
          "name": "stdout"
        }
      ]
    },
    {
      "cell_type": "code",
      "metadata": {
        "id": "af1baqhgPhVF"
      },
      "source": [
        "qp2Qubo =  QuadraticProgramToQubo()\n",
        "QuboProblem = qp2Qubo.convert(qp)"
      ],
      "execution_count": null,
      "outputs": []
    },
    {
      "cell_type": "code",
      "metadata": {
        "id": "OnzHBeaUNu_j",
        "colab": {
          "base_uri": "https://localhost:8080/"
        },
        "outputId": "2acd7f02-92e3-479e-8a56-558174036280"
      },
      "source": [
        "print(QuboProblem)"
      ],
      "execution_count": null,
      "outputs": [
        {
          "output_type": "stream",
          "text": [
            "\\ This file has been generated by DOcplex\n",
            "\\ ENCODING=ISO-8859-1\n",
            "\\Problem name: docplex_model10\n",
            "\n",
            "Minimize\n",
            " obj: - 4 x0 - 8 x1 - 12 x2 + [ 2 x0^2 + 8 x0*x1 + 12 x0*x2 + 8 x1^2 + 24 x1*x2\n",
            "      + 18 x2^2 ]/2 + 4\n",
            "Subject To\n",
            "\n",
            "Bounds\n",
            " 0 <= x0 <= 1\n",
            " 0 <= x1 <= 1\n",
            " 0 <= x2 <= 1\n",
            "\n",
            "Binaries\n",
            " x0 x1 x2\n",
            "End\n",
            "\n"
          ],
          "name": "stdout"
        }
      ]
    },
    {
      "cell_type": "code",
      "metadata": {
        "colab": {
          "base_uri": "https://localhost:8080/"
        },
        "id": "E2CXYffRSXMg",
        "outputId": "d8921da7-59a2-4a09-b29d-8f1c69ec0de9"
      },
      "source": [
        "op, offset = QuboProblem.to_ising()\n",
        "print('offset: {}'.format(offset))\n",
        "print('operator:')\n",
        "print(op)"
      ],
      "execution_count": null,
      "outputs": [
        {
          "output_type": "stream",
          "text": [
            "offset: 4.5\n",
            "operator:\n",
            "SummedOp([\n",
            "  -1.0 * IIZ,\n",
            "  -2.0 * IZI,\n",
            "  -3.0 * ZII,\n",
            "  IZZ,\n",
            "  1.5 * ZIZ,\n",
            "  3.0 * ZZI\n",
            "])\n"
          ],
          "name": "stdout"
        },
        {
          "output_type": "stream",
          "text": [
            "/usr/local/lib/python3.7/dist-packages/qiskit/aqua/operators/operator_base.py:46: DeprecationWarning: The package qiskit.aqua.operators is deprecated. It was moved/refactored to qiskit.opflow (pip install qiskit-terra). For more information see <https://github.com/Qiskit/qiskit-aqua/blob/master/README.md#migration-guide>\n",
            "  warn_package('aqua.operators', 'qiskit.opflow', 'qiskit-terra')\n"
          ],
          "name": "stderr"
        }
      ]
    },
    {
      "cell_type": "code",
      "metadata": {
        "id": "t69imIllTZjw"
      },
      "source": [
        ""
      ],
      "execution_count": null,
      "outputs": []
    }
  ]
}