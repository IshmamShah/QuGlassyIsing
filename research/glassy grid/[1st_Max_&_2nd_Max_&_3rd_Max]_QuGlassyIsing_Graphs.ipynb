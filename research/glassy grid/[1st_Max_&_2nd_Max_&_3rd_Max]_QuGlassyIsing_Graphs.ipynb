{
  "nbformat": 4,
  "nbformat_minor": 0,
  "metadata": {
    "colab": {
      "name": "[1st Max & 2nd Max & 3rd Max] QuGlassyIsing-Graphs.ipynb",
      "provenance": [],
      "collapsed_sections": []
    },
    "kernelspec": {
      "name": "python3",
      "display_name": "Python 3"
    },
    "language_info": {
      "name": "python"
    }
  },
  "cells": [
    {
      "cell_type": "code",
      "metadata": {
        "colab": {
          "base_uri": "https://localhost:8080/"
        },
        "id": "C8biyczW34XV",
        "outputId": "0059a1e9-a8b0-43a4-b09b-36ac24118ac3"
      },
      "source": [
        "!pip install qiskit"
      ],
      "execution_count": 1,
      "outputs": [
        {
          "output_type": "stream",
          "text": [
            "Collecting qiskit\n",
            "  Downloading https://files.pythonhosted.org/packages/6f/61/cb7506e17a2566dc8a31a3e1924d91ac0bdd8ff07c71ec698c06647b6306/qiskit-0.26.2.tar.gz\n",
            "Collecting qiskit-terra==0.17.4\n",
            "\u001b[?25l  Downloading https://files.pythonhosted.org/packages/b3/0c/3c7a8dd451dae0907263e9de9e3e34909e15e18c88a589b44581972c8511/qiskit_terra-0.17.4-cp37-cp37m-manylinux2010_x86_64.whl (6.0MB)\n",
            "\u001b[K     |████████████████████████████████| 6.0MB 10.0MB/s \n",
            "\u001b[?25hCollecting qiskit-aer==0.8.2\n",
            "\u001b[?25l  Downloading https://files.pythonhosted.org/packages/c2/d2/6ff15c370b5465b32529b528bf3f4ce1e01f74498be16203aa1c04b67022/qiskit_aer-0.8.2-cp37-cp37m-manylinux2010_x86_64.whl (18.0MB)\n",
            "\u001b[K     |████████████████████████████████| 18.0MB 219kB/s \n",
            "\u001b[?25hCollecting qiskit-ibmq-provider==0.13.1\n",
            "\u001b[?25l  Downloading https://files.pythonhosted.org/packages/be/99/74bbb901f88603a7d850d4889abc06d81ba702e4227151f4a5b66f2631fe/qiskit_ibmq_provider-0.13.1-py3-none-any.whl (228kB)\n",
            "\u001b[K     |████████████████████████████████| 235kB 55.0MB/s \n",
            "\u001b[?25hCollecting qiskit-ignis==0.6.0\n",
            "\u001b[?25l  Downloading https://files.pythonhosted.org/packages/54/be/a13c828e457e09d979667a61bddbd8c7246aafa94e2501b6a9154429cbea/qiskit_ignis-0.6.0-py3-none-any.whl (207kB)\n",
            "\u001b[K     |████████████████████████████████| 215kB 24.1MB/s \n",
            "\u001b[?25hCollecting qiskit-aqua==0.9.1\n",
            "\u001b[?25l  Downloading https://files.pythonhosted.org/packages/88/79/392c57b978decbb24b902344b536af52c40a751aed0ebbaefa8bc2964cb5/qiskit_aqua-0.9.1-py3-none-any.whl (2.1MB)\n",
            "\u001b[K     |████████████████████████████████| 2.1MB 30.3MB/s \n",
            "\u001b[?25hRequirement already satisfied: sympy>=1.3 in /usr/local/lib/python3.7/dist-packages (from qiskit-terra==0.17.4->qiskit) (1.7.1)\n",
            "Collecting ply>=3.10\n",
            "\u001b[?25l  Downloading https://files.pythonhosted.org/packages/a3/58/35da89ee790598a0700ea49b2a66594140f44dec458c07e8e3d4979137fc/ply-3.11-py2.py3-none-any.whl (49kB)\n",
            "\u001b[K     |████████████████████████████████| 51kB 6.9MB/s \n",
            "\u001b[?25hCollecting python-constraint>=1.4\n",
            "  Downloading https://files.pythonhosted.org/packages/37/8b/5f1bc2734ca611943e1d6733ee244238679f6410a10cd45ede55a61a8402/python-constraint-1.4.0.tar.bz2\n",
            "Requirement already satisfied: python-dateutil>=2.8.0 in /usr/local/lib/python3.7/dist-packages (from qiskit-terra==0.17.4->qiskit) (2.8.1)\n",
            "Requirement already satisfied: numpy>=1.17 in /usr/local/lib/python3.7/dist-packages (from qiskit-terra==0.17.4->qiskit) (1.19.5)\n",
            "Collecting retworkx>=0.8.0\n",
            "\u001b[?25l  Downloading https://files.pythonhosted.org/packages/9e/cd/70d436f170aa1ead2ac9e4c19c8838633355d48b530f09455eab0af2f98e/retworkx-0.9.0-cp37-cp37m-manylinux_2_5_x86_64.manylinux1_x86_64.manylinux_2_12_x86_64.manylinux2010_x86_64.whl (1.4MB)\n",
            "\u001b[K     |████████████████████████████████| 1.5MB 30.0MB/s \n",
            "\u001b[?25hCollecting fastjsonschema>=2.10\n",
            "  Downloading https://files.pythonhosted.org/packages/d1/fb/ea090e917b18320f79be31d754bbe496b715175e865603cfce1eaed2e774/fastjsonschema-2.15.1-py3-none-any.whl\n",
            "Requirement already satisfied: scipy>=1.4 in /usr/local/lib/python3.7/dist-packages (from qiskit-terra==0.17.4->qiskit) (1.4.1)\n",
            "Requirement already satisfied: jsonschema>=2.6 in /usr/local/lib/python3.7/dist-packages (from qiskit-terra==0.17.4->qiskit) (2.6.0)\n",
            "Requirement already satisfied: psutil>=5 in /usr/local/lib/python3.7/dist-packages (from qiskit-terra==0.17.4->qiskit) (5.4.8)\n",
            "Requirement already satisfied: dill>=0.3 in /usr/local/lib/python3.7/dist-packages (from qiskit-terra==0.17.4->qiskit) (0.3.3)\n",
            "Collecting pybind11>=2.6\n",
            "\u001b[?25l  Downloading https://files.pythonhosted.org/packages/8d/43/7339dbabbc2793718d59703aace4166f53c29ee1c202f6ff5bf8a26c4d91/pybind11-2.6.2-py2.py3-none-any.whl (191kB)\n",
            "\u001b[K     |████████████████████████████████| 194kB 44.6MB/s \n",
            "\u001b[?25hCollecting requests-ntlm>=1.1.0\n",
            "  Downloading https://files.pythonhosted.org/packages/03/4b/8b9a1afde8072c4d5710d9fa91433d504325821b038e00237dc8d6d833dc/requests_ntlm-1.1.0-py2.py3-none-any.whl\n",
            "Collecting websockets>=8\n",
            "\u001b[?25l  Downloading https://files.pythonhosted.org/packages/84/64/78c2b3fe37730b30dca3c93d1f7f4a4286767f86e7c04cf3571b39bc2fb7/websockets-9.1-cp37-cp37m-manylinux2010_x86_64.whl (103kB)\n",
            "\u001b[K     |████████████████████████████████| 112kB 46.1MB/s \n",
            "\u001b[?25hRequirement already satisfied: nest-asyncio!=1.1.0,>=1.0.0 in /usr/local/lib/python3.7/dist-packages (from qiskit-ibmq-provider==0.13.1->qiskit) (1.5.1)\n",
            "Requirement already satisfied: urllib3>=1.21.1 in /usr/local/lib/python3.7/dist-packages (from qiskit-ibmq-provider==0.13.1->qiskit) (1.24.3)\n",
            "Requirement already satisfied: requests>=2.19 in /usr/local/lib/python3.7/dist-packages (from qiskit-ibmq-provider==0.13.1->qiskit) (2.23.0)\n",
            "Requirement already satisfied: setuptools>=40.1.0 in /usr/local/lib/python3.7/dist-packages (from qiskit-ignis==0.6.0->qiskit) (57.0.0)\n",
            "Collecting yfinance<=0.1.55\n",
            "  Downloading https://files.pythonhosted.org/packages/7a/e8/b9d7104d3a4bf39924799067592d9e59119fcfc900a425a12e80a3123ec8/yfinance-0.1.55.tar.gz\n",
            "Collecting docplex<=2.20.204; sys_platform != \"darwin\"\n",
            "\u001b[?25l  Downloading https://files.pythonhosted.org/packages/87/99/6f7c219b39fd58c84688ad0713eb932bfcf6be81fc74519e43ea9c915b56/docplex-2.20.204.tar.gz (611kB)\n",
            "\u001b[K     |████████████████████████████████| 614kB 32.6MB/s \n",
            "\u001b[?25hCollecting dlx<=1.0.4\n",
            "  Downloading https://files.pythonhosted.org/packages/54/c0/b8fb5bb727e983b6f5251433ef941b48f38c65bb0bd6ec509e9185bcd406/dlx-1.0.4.tar.gz\n",
            "Requirement already satisfied: fastdtw<=0.3.4 in /usr/local/lib/python3.7/dist-packages (from qiskit-aqua==0.9.1->qiskit) (0.3.4)\n",
            "Requirement already satisfied: h5py<=3.1.0 in /usr/local/lib/python3.7/dist-packages (from qiskit-aqua==0.9.1->qiskit) (3.1.0)\n",
            "Requirement already satisfied: pandas<=1.2.3 in /usr/local/lib/python3.7/dist-packages (from qiskit-aqua==0.9.1->qiskit) (1.1.5)\n",
            "Collecting quandl<=3.6.0\n",
            "  Downloading https://files.pythonhosted.org/packages/c2/58/9f0e69d836045e3865d263e9ed49f42b23a58526fdabb30f74c430baee3f/Quandl-3.6.0-py2.py3-none-any.whl\n",
            "Requirement already satisfied: scikit-learn<=0.24.1,>=0.20.0 in /usr/local/lib/python3.7/dist-packages (from qiskit-aqua==0.9.1->qiskit) (0.22.2.post1)\n",
            "Requirement already satisfied: mpmath>=0.19 in /usr/local/lib/python3.7/dist-packages (from sympy>=1.3->qiskit-terra==0.17.4->qiskit) (1.2.1)\n",
            "Requirement already satisfied: six>=1.5 in /usr/local/lib/python3.7/dist-packages (from python-dateutil>=2.8.0->qiskit-terra==0.17.4->qiskit) (1.15.0)\n",
            "Collecting ntlm-auth>=1.0.2\n",
            "  Downloading https://files.pythonhosted.org/packages/ff/84/97c550164b54942b0e908c31ef09d9469f3ba4cd7332a671e2125732f63b/ntlm_auth-1.5.0-py2.py3-none-any.whl\n",
            "Collecting cryptography>=1.3\n",
            "\u001b[?25l  Downloading https://files.pythonhosted.org/packages/b2/26/7af637e6a7e87258b963f1731c5982fb31cd507f0d90d91836e446955d02/cryptography-3.4.7-cp36-abi3-manylinux2014_x86_64.whl (3.2MB)\n",
            "\u001b[K     |████████████████████████████████| 3.2MB 30.9MB/s \n",
            "\u001b[?25hRequirement already satisfied: chardet<4,>=3.0.2 in /usr/local/lib/python3.7/dist-packages (from requests>=2.19->qiskit-ibmq-provider==0.13.1->qiskit) (3.0.4)\n",
            "Requirement already satisfied: idna<3,>=2.5 in /usr/local/lib/python3.7/dist-packages (from requests>=2.19->qiskit-ibmq-provider==0.13.1->qiskit) (2.10)\n",
            "Requirement already satisfied: certifi>=2017.4.17 in /usr/local/lib/python3.7/dist-packages (from requests>=2.19->qiskit-ibmq-provider==0.13.1->qiskit) (2020.12.5)\n",
            "Requirement already satisfied: multitasking>=0.0.7 in /usr/local/lib/python3.7/dist-packages (from yfinance<=0.1.55->qiskit-aqua==0.9.1->qiskit) (0.0.9)\n",
            "Collecting lxml>=4.5.1\n",
            "\u001b[?25l  Downloading https://files.pythonhosted.org/packages/30/c0/d0526314971fc661b083ab135747dc68446a3022686da8c16d25fcf6ef07/lxml-4.6.3-cp37-cp37m-manylinux2014_x86_64.whl (6.3MB)\n",
            "\u001b[K     |████████████████████████████████| 6.3MB 31.6MB/s \n",
            "\u001b[?25hRequirement already satisfied: cached-property; python_version < \"3.8\" in /usr/local/lib/python3.7/dist-packages (from h5py<=3.1.0->qiskit-aqua==0.9.1->qiskit) (1.5.2)\n",
            "Requirement already satisfied: pytz>=2017.2 in /usr/local/lib/python3.7/dist-packages (from pandas<=1.2.3->qiskit-aqua==0.9.1->qiskit) (2018.9)\n",
            "Requirement already satisfied: more-itertools in /usr/local/lib/python3.7/dist-packages (from quandl<=3.6.0->qiskit-aqua==0.9.1->qiskit) (8.7.0)\n",
            "Collecting inflection>=0.3.1\n",
            "  Downloading https://files.pythonhosted.org/packages/59/91/aa6bde563e0085a02a435aa99b49ef75b0a4b062635e606dab23ce18d720/inflection-0.5.1-py2.py3-none-any.whl\n",
            "Requirement already satisfied: joblib>=0.11 in /usr/local/lib/python3.7/dist-packages (from scikit-learn<=0.24.1,>=0.20.0->qiskit-aqua==0.9.1->qiskit) (1.0.1)\n",
            "Requirement already satisfied: cffi>=1.12 in /usr/local/lib/python3.7/dist-packages (from cryptography>=1.3->requests-ntlm>=1.1.0->qiskit-ibmq-provider==0.13.1->qiskit) (1.14.5)\n",
            "Requirement already satisfied: pycparser in /usr/local/lib/python3.7/dist-packages (from cffi>=1.12->cryptography>=1.3->requests-ntlm>=1.1.0->qiskit-ibmq-provider==0.13.1->qiskit) (2.20)\n",
            "Building wheels for collected packages: qiskit, python-constraint, yfinance, docplex, dlx\n",
            "  Building wheel for qiskit (setup.py) ... \u001b[?25l\u001b[?25hdone\n",
            "  Created wheel for qiskit: filename=qiskit-0.26.2-cp37-none-any.whl size=10506 sha256=51cc7e311fecc07502036fe968fc5e69fc7d1cbaa5516ccbf407187e63d3c7f3\n",
            "  Stored in directory: /root/.cache/pip/wheels/89/89/34/524839952d5a58a7be9789e580bfc1ca883bf6579152444568\n",
            "  Building wheel for python-constraint (setup.py) ... \u001b[?25l\u001b[?25hdone\n",
            "  Created wheel for python-constraint: filename=python_constraint-1.4.0-py2.py3-none-any.whl size=24079 sha256=9b7bca318b0da7e3aa3bc2bb5ab22ff1eb4c392590adfb7cad8c394e3dec4def\n",
            "  Stored in directory: /root/.cache/pip/wheels/34/31/15/7b070b25d0a549d20ce2e9fe6d727471c2c61ef904720fd40c\n",
            "  Building wheel for yfinance (setup.py) ... \u001b[?25l\u001b[?25hdone\n",
            "  Created wheel for yfinance: filename=yfinance-0.1.55-py2.py3-none-any.whl size=22627 sha256=badc54ad6fa6b26ba427b55ff9fcc0f57700716b3ee6a261d9d6fdbb3298492d\n",
            "  Stored in directory: /root/.cache/pip/wheels/04/98/cc/2702a4242d60bdc14f48b4557c427ded1fe92aedf257d4565c\n",
            "  Building wheel for docplex (setup.py) ... \u001b[?25l\u001b[?25hdone\n",
            "  Created wheel for docplex: filename=docplex-2.20.204-cp37-none-any.whl size=675396 sha256=d0073f4efacd3894d25b232609339ddedc81f00407b8cd93699acabaf19d84f8\n",
            "  Stored in directory: /root/.cache/pip/wheels/ae/2c/e2/a099ebb6fda8adeba9c5fc2e25659d195ad2f5c6cc5fb75fd4\n",
            "  Building wheel for dlx (setup.py) ... \u001b[?25l\u001b[?25hdone\n",
            "  Created wheel for dlx: filename=dlx-1.0.4-cp37-none-any.whl size=5720 sha256=f1e0369545938a651a5b82b9013d34215a1311c3bc5dfa4bdc0af3afcb293f8a\n",
            "  Stored in directory: /root/.cache/pip/wheels/bb/ba/15/fdd0deb104df3254912998150ba9245668db06b00af5912d1a\n",
            "Successfully built qiskit python-constraint yfinance docplex dlx\n",
            "\u001b[31mERROR: qiskit-aqua 0.9.1 has requirement retworkx<=0.8.0,>=0.7.0, but you'll have retworkx 0.9.0 which is incompatible.\u001b[0m\n",
            "Installing collected packages: ply, python-constraint, retworkx, fastjsonschema, qiskit-terra, pybind11, qiskit-aer, ntlm-auth, cryptography, requests-ntlm, websockets, qiskit-ibmq-provider, qiskit-ignis, lxml, yfinance, docplex, dlx, inflection, quandl, qiskit-aqua, qiskit\n",
            "  Found existing installation: lxml 4.2.6\n",
            "    Uninstalling lxml-4.2.6:\n",
            "      Successfully uninstalled lxml-4.2.6\n",
            "Successfully installed cryptography-3.4.7 dlx-1.0.4 docplex-2.20.204 fastjsonschema-2.15.1 inflection-0.5.1 lxml-4.6.3 ntlm-auth-1.5.0 ply-3.11 pybind11-2.6.2 python-constraint-1.4.0 qiskit-0.26.2 qiskit-aer-0.8.2 qiskit-aqua-0.9.1 qiskit-ibmq-provider-0.13.1 qiskit-ignis-0.6.0 qiskit-terra-0.17.4 quandl-3.6.0 requests-ntlm-1.1.0 retworkx-0.9.0 websockets-9.1 yfinance-0.1.55\n"
          ],
          "name": "stdout"
        }
      ]
    },
    {
      "cell_type": "code",
      "metadata": {
        "colab": {
          "base_uri": "https://localhost:8080/"
        },
        "id": "JTlH1bJZzVIy",
        "outputId": "8fa10cf8-6588-44fa-9269-c797e56957f7"
      },
      "source": [
        "!git clone https://github.com/arnavdas88/QuGlassyIsing"
      ],
      "execution_count": 2,
      "outputs": [
        {
          "output_type": "stream",
          "text": [
            "Cloning into 'QuGlassyIsing'...\n",
            "remote: Enumerating objects: 282, done.\u001b[K\n",
            "remote: Counting objects: 100% (282/282), done.\u001b[K\n",
            "remote: Compressing objects: 100% (189/189), done.\u001b[K\n",
            "remote: Total 282 (delta 127), reused 226 (delta 80), pack-reused 0\u001b[K\n",
            "Receiving objects: 100% (282/282), 2.13 MiB | 23.69 MiB/s, done.\n",
            "Resolving deltas: 100% (127/127), done.\n"
          ],
          "name": "stdout"
        }
      ]
    },
    {
      "cell_type": "code",
      "metadata": {
        "id": "SFRq62kt0DUf"
      },
      "source": [
        "!mv QuGlassyIsing/research/pickle-files/ ./pickle"
      ],
      "execution_count": 3,
      "outputs": []
    },
    {
      "cell_type": "code",
      "metadata": {
        "id": "4pOhTC4J0OLl"
      },
      "source": [
        "from qiskit.providers.aer import QasmSimulator  \n",
        "from qiskit.providers.aer import AerSimulator\n",
        "from qiskit import Aer, transpile\n",
        "from qiskit.circuit.library import TwoLocal\n",
        "from qiskit.algorithms import VQE\n",
        "from qiskit.algorithms.optimizers import COBYLA \n",
        "from qiskit.circuit.library import EfficientSU2\n",
        "# opflow is Qiskit's module for creating operators like yours\n",
        "from qiskit import *\n",
        "from qiskit.opflow import OperatorBase\n",
        "from qiskit.opflow import Z, X, I  # Pauli Z, X matrices and identity\n",
        "import pylab\n",
        "import matplotlib.pyplot as plt\n",
        "import numpy as np\n",
        "\n",
        "%matplotlib inline\n",
        "\n",
        "import os\n",
        "import pickle"
      ],
      "execution_count": 4,
      "outputs": []
    },
    {
      "cell_type": "code",
      "metadata": {
        "colab": {
          "base_uri": "https://localhost:8080/"
        },
        "id": "dkbQ9KYB0XQF",
        "outputId": "ed1adf2c-05ff-455f-e751-f6fdbd44121c"
      },
      "source": [
        "file_list = []\n",
        "for dirlist in os.walk('./pickle'):\n",
        "    base, dir, files = dirlist\n",
        "    if 'j=1' in base:\n",
        "        for f in files:\n",
        "            file_list += [os.path.join(base, f)]\n",
        "\n",
        "print(file_list) "
      ],
      "execution_count": 5,
      "outputs": [
        {
          "output_type": "stream",
          "text": [
            "['./pickle/2D Ising Model/j=1/AntiFerromagmetic/2D_Ising_Model_CountsAF3.kl', './pickle/2D Ising Model/j=1/AntiFerromagmetic/2D_Ising_Model_CountsAF1.pkl', './pickle/2D Ising Model/j=1/AntiFerromagmetic/2D_Ising_Model_CountsAF2.pkl', './pickle/2D Ising Model/j=1/Disordered/2D_Ising_Model_CountsDIS3.pkl', './pickle/2D Ising Model/j=1/Disordered/2D_Ising_Model_CountsDIS2.pkl', './pickle/2D Ising Model/j=1/Disordered/2D_Ising_Model_CountsDIS1.pkl']\n"
          ],
          "name": "stdout"
        }
      ]
    },
    {
      "cell_type": "code",
      "metadata": {
        "colab": {
          "base_uri": "https://localhost:8080/"
        },
        "id": "lPEzYx4M0u8q",
        "outputId": "a79f98a1-69e5-4921-9e42-800fb2b3a107"
      },
      "source": [
        "print(\"Loading Optimization History\")\n",
        "counts_values = {}\n",
        "for f in file_list:\n",
        "    with open(f, 'rb') as handle:\n",
        "        counts_values[f] = pickle.load(handle)\n"
      ],
      "execution_count": 6,
      "outputs": [
        {
          "output_type": "stream",
          "text": [
            "Loading Optimization History\n"
          ],
          "name": "stdout"
        }
      ]
    },
    {
      "cell_type": "code",
      "metadata": {
        "colab": {
          "base_uri": "https://localhost:8080/"
        },
        "id": "EklVkI__Sfut",
        "outputId": "5b6016b3-e659-457f-aa61-ef99c4466676"
      },
      "source": [
        "list(counts_values.values())[0]"
      ],
      "execution_count": 7,
      "outputs": [
        {
          "output_type": "execute_result",
          "data": {
            "text/plain": [
              "{'vqe_result': {'optimal_parameters': {ParameterVectorElement(θ[0]): -3.1746030798542333, ParameterVectorElement(θ[10]): -3.100635416244281, ParameterVectorElement(θ[11]): 6.328377883126882, ParameterVectorElement(θ[12]): 2.9164261352270766, ParameterVectorElement(θ[13]): -0.0037798946555328812, ParameterVectorElement(θ[14]): -3.0350271957058883, ParameterVectorElement(θ[15]): 3.166037002855905, ParameterVectorElement(θ[16]): 6.297030729554503, ParameterVectorElement(θ[17]): -3.108097885816586, ParameterVectorElement(θ[18]): -0.04585685172297921, ParameterVectorElement(θ[19]): -3.142182731729604, ParameterVectorElement(θ[1]): -0.05777967803668499, ParameterVectorElement(θ[20]): -4.7966215907963905, ParameterVectorElement(θ[21]): 6.360102167275139, ParameterVectorElement(θ[22]): 3.144073556477021, ParameterVectorElement(θ[23]): -0.005766496893526079, ParameterVectorElement(θ[24]): -2.9818101545752858, ParameterVectorElement(θ[25]): -0.02678563432074167, ParameterVectorElement(θ[26]): 0.2039131152360063, ParameterVectorElement(θ[27]): 3.137908143882592, ParameterVectorElement(θ[28]): 6.235410911266704, ParameterVectorElement(θ[29]): 3.1538996948607956, ParameterVectorElement(θ[2]): 3.1481769675707154, ParameterVectorElement(θ[30]): 6.36243443901691, ParameterVectorElement(θ[31]): -3.1172656134583487, ParameterVectorElement(θ[32]): 2.967529546003407, ParameterVectorElement(θ[33]): -0.018601476682845446, ParameterVectorElement(θ[34]): -3.0806176055753003, ParameterVectorElement(θ[35]): 6.3245066155335925, ParameterVectorElement(θ[36]): -3.634226080863497, ParameterVectorElement(θ[37]): -4.66227425246615, ParameterVectorElement(θ[38]): -4.0520163039908255, ParameterVectorElement(θ[39]): 3.2896698749701723, ParameterVectorElement(θ[3]): -3.088063376005831, ParameterVectorElement(θ[40]): 1.5195959727415742, ParameterVectorElement(θ[41]): 0.4633002400573142, ParameterVectorElement(θ[42]): -4.8293287619907685, ParameterVectorElement(θ[43]): 2.703986994706933, ParameterVectorElement(θ[44]): 0.3555617805754537, ParameterVectorElement(θ[45]): 2.9929656633855375, ParameterVectorElement(θ[46]): -3.668790699994091, ParameterVectorElement(θ[47]): 3.840705680834548, ParameterVectorElement(θ[48]): -6.709437619297109, ParameterVectorElement(θ[49]): -4.203188688125719, ParameterVectorElement(θ[4]): 6.232679863877247, ParameterVectorElement(θ[50]): 3.3077696896916096, ParameterVectorElement(θ[51]): 5.456782607512087, ParameterVectorElement(θ[52]): -3.789000277286082, ParameterVectorElement(θ[53]): 0.9701173607244663, ParameterVectorElement(θ[54]): 8.004294647639963, ParameterVectorElement(θ[55]): -3.41893222843782, ParameterVectorElement(θ[56]): 5.954595925520237, ParameterVectorElement(θ[57]): -4.702585312187972, ParameterVectorElement(θ[58]): -3.555913806030308, ParameterVectorElement(θ[59]): 5.536007200925312, ParameterVectorElement(θ[5]): -3.1716010212845864, ParameterVectorElement(θ[60]): -2.2100367422854807, ParameterVectorElement(θ[61]): 1.8098201501033953, ParameterVectorElement(θ[62]): 0.7030720634029217, ParameterVectorElement(θ[63]): -3.8676333447556206, ParameterVectorElement(θ[64]): -4.183183152634768, ParameterVectorElement(θ[65]): -3.9996276898466503, ParameterVectorElement(θ[66]): -3.5372745763429716, ParameterVectorElement(θ[67]): 0.6455297281180165, ParameterVectorElement(θ[68]): -3.0783346559958193, ParameterVectorElement(θ[69]): 0.21004089588803004, ParameterVectorElement(θ[6]): 0.05174891893831379, ParameterVectorElement(θ[70]): -1.9118001719909354, ParameterVectorElement(θ[71]): 3.3988677244137264, ParameterVectorElement(θ[7]): -3.0633497462982, ParameterVectorElement(θ[8]): 6.191816517035589, ParameterVectorElement(θ[9]): -6.08644720536311}, 'optimal_point': array([-3.17460308e+00, -3.10063542e+00,  6.32837788e+00,  2.91642614e+00,\n",
              "        -3.77989466e-03, -3.03502720e+00,  3.16603700e+00,  6.29703073e+00,\n",
              "        -3.10809789e+00, -4.58568517e-02, -3.14218273e+00, -5.77796780e-02,\n",
              "        -4.79662159e+00,  6.36010217e+00,  3.14407356e+00, -5.76649689e-03,\n",
              "        -2.98181015e+00, -2.67856343e-02,  2.03913115e-01,  3.13790814e+00,\n",
              "         6.23541091e+00,  3.15389969e+00,  3.14817697e+00,  6.36243444e+00,\n",
              "        -3.11726561e+00,  2.96752955e+00, -1.86014767e-02, -3.08061761e+00,\n",
              "         6.32450662e+00, -3.63422608e+00, -4.66227425e+00, -4.05201630e+00,\n",
              "         3.28966987e+00, -3.08806338e+00,  1.51959597e+00,  4.63300240e-01,\n",
              "        -4.82932876e+00,  2.70398699e+00,  3.55561781e-01,  2.99296566e+00,\n",
              "        -3.66879070e+00,  3.84070568e+00, -6.70943762e+00, -4.20318869e+00,\n",
              "         6.23267986e+00,  3.30776969e+00,  5.45678261e+00, -3.78900028e+00,\n",
              "         9.70117361e-01,  8.00429465e+00, -3.41893223e+00,  5.95459593e+00,\n",
              "        -4.70258531e+00, -3.55591381e+00,  5.53600720e+00, -3.17160102e+00,\n",
              "        -2.21003674e+00,  1.80982015e+00,  7.03072063e-01, -3.86763334e+00,\n",
              "        -4.18318315e+00, -3.99962769e+00, -3.53727458e+00,  6.45529728e-01,\n",
              "        -3.07833466e+00,  2.10040896e-01,  5.17489189e-02, -1.91180017e+00,\n",
              "         3.39886772e+00, -3.06334975e+00,  6.19181652e+00, -6.08644721e+00]), 'optimal_value': -91.49267578125001, 'optimizer_evals': 1000, 'optimizer_time': 15296.228350877762, 'eigenvalue': (-91.49267578125001+0j), 'eigenstate': {'010110101001010010101100010010100101': 1, '010110101001010111101101010010101101': 1, '010110111001010010101101010010101101': 2, '010110101001010110101100011010101101': 1, '010110101001010110001101010010101101': 1, '010110101001010111101100010010101101': 1, '010110101101010010101100110010101101': 1, '010010101001010110101101011010101101': 1, '010010101001010010101100010010101101': 1, '010110101001010110101101010010100101': 2, '010110101001010110101101010010111101': 3, '010110101001010010101101010011101101': 2, '010110101001110110101101010010101101': 1, '010110101001010010101101110010101101': 2, '010110101001010010001101010010101101': 1, '010110101001010010101101010010101111': 1, '010111101001010110101101010010101101': 6, '010011101001010010101101010010101101': 1, '010100101001010110101101010010101101': 1, '010110101101010010101101010010101101': 43, '010110101101010110101101010010101101': 43, '010110101001010110101001010010101101': 5, '010110101001010010101101010110101101': 14, '010110101001010010101001010010101101': 13, '010110101001010110101100010010101101': 42, '010110101000010110101101010010101101': 21, '010110101001010010101100010010101101': 50, '010110101001010110101101011010101101': 31, '010110101001010010101101010000101101': 4, '010110101000010010101101010010101101': 21, '010110101001010010101100011010101101': 1, '010110101101010010101101011010101101': 2, '010110101001010110101101110010101101': 2, '010111101001010010101101010010101101': 8, '010110101001010110101101010110101101': 8, '010110101001010010101101010010100101': 5, '010110101001010011101101010010101101': 3, '010110101001011010101101010010101101': 6, '010010101001010110101101010010101101': 30, '000110101001010010101101010010101101': 4, '010110101001010110101101010010001101': 1, '010110101001010110101101010011101101': 4, '010110101001010110101101010010101111': 5, '010110101001010010101101010010001101': 1, '010110101011010010101101010010101101': 1, '010010101001010010101101010000101101': 1, '000110101001010110101101010010101101': 1, '010110101001010110101101010010101101': 3554, '010110101001010110101101010000101101': 7, '010110101001010010101101011010101101': 42, '010110101001010010101101010010101101': 4143, '010110101001011110101101010010101101': 5, '010010101001010010101101010010101101': 33, '010010101000010110101101010010101101': 1, '010110101001010110101101000010101101': 6, '010110101000010010101100010010101101': 1}, 'cost_function_evals': 1000}}"
            ]
          },
          "metadata": {
            "tags": []
          },
          "execution_count": 7
        }
      ]
    },
    {
      "cell_type": "code",
      "metadata": {
        "id": "dnmf20j03yIQ"
      },
      "source": [
        "tempdata = [ v for v in counts_values.values() ]"
      ],
      "execution_count": 8,
      "outputs": []
    },
    {
      "cell_type": "code",
      "metadata": {
        "id": "Es89oWOsrweu"
      },
      "source": [
        "def flatten(x): return sum(x, [])\n",
        "\n",
        "def build_graph_data(x):\n",
        "    sqrt = len(x)**(float(1)/2)\n",
        "    sqrt = int(sqrt)\n",
        "    if not sqrt**2 == len(x):\n",
        "        raise Exception(\"not able to form a square\")\n",
        "    result = []\n",
        "    xa = np.asarray([float(i) for i in x])\n",
        "    return xa.reshape((sqrt, sqrt)), x\n",
        "\n",
        "\n",
        "import numpy as np\n",
        "import seaborn as sns\n",
        "import matplotlib.pylab as plt\n",
        "\n",
        "def draw_graph(x, t):\n",
        "    plt.figure(figsize=(7, 7))\n",
        "    plt.title(t, pad=6.2, fontsize=18, wrap=True)\n",
        "    plt.imshow(x, cmap='copper', interpolation='nearest', aspect='auto')\n",
        "    # plt.xticks(X, X/10, label=\"Bx\", rotation=90, fontsize=16)\n",
        "    # plt.xlabel('Bx →', fontsize=24)\n",
        "    # plt.yticks(Y, label=\"Bz\", fontsize=16)\n",
        "    # plt.ylabel('Bz →', fontsize=24)\n",
        "    # plt.colorbar()\n",
        "    # plt.savefig(\"Heatmap representing the change of `Minimum Ground State Energy` in Bx vs Bz.png\", bbox_inches='tight', dpi=1080)\n",
        "    plt.show()\n",
        "\n",
        "def build_graph_data_from_list(x):\n",
        "    for i in x:\n",
        "        p, t = build_graph_data(i)\n",
        "        draw_graph(p, t)"
      ],
      "execution_count": 12,
      "outputs": []
    },
    {
      "cell_type": "markdown",
      "metadata": {
        "id": "-bcAvZKP_Bah"
      },
      "source": [
        "# 1st Max"
      ]
    },
    {
      "cell_type": "code",
      "metadata": {
        "id": "p5K43R15_DTk"
      },
      "source": [
        "import numpy as np\n",
        "import seaborn as sns\n",
        "import matplotlib.pylab as plt\n",
        "from qiskit.visualization import plot_histogram\n",
        "\n",
        "def show_counts_data_1st(tempdata_i, max_val = 0):\n",
        "    arr = tempdata_i['vqe_result']\n",
        "    arr = arr['eigenstate']\n",
        "    data = np.asarray(arr)\n",
        "    # print(list(arr.keys()))\n",
        "    arr = {a: arr[a] for a in arr if arr[a] == max(list(arr.values()))}\n",
        "    # return plot_histogram(arr)\n",
        "    return arr\n",
        "    # return len(list(arr.keys()))\n",
        "\n",
        "    # return data"
      ],
      "execution_count": 14,
      "outputs": []
    },
    {
      "cell_type": "code",
      "metadata": {
        "colab": {
          "base_uri": "https://localhost:8080/",
          "height": 1000
        },
        "id": "BYOcxR8x_IHX",
        "outputId": "1b165386-60f0-42e5-ae94-0904df98d0ba"
      },
      "source": [
        "de = {  k: show_counts_data_2nd(v)  for k, v in counts_values.items() if not \"AF1\" in k }\n",
        "\n",
        "for k, e in de.items():\n",
        "    print(k)\n",
        "    build_graph_data_from_list(list(e.keys()))"
      ],
      "execution_count": 15,
      "outputs": [
        {
          "output_type": "stream",
          "text": [
            "./pickle/2D Ising Model/j=1/AntiFerromagmetic/2D_Ising_Model_CountsAF3.kl\n"
          ],
          "name": "stdout"
        },
        {
          "output_type": "display_data",
          "data": {
            "image/png": "[encoded data removed]",
            "text/plain": [
              "<Figure size 504x504 with 1 Axes>"
            ]
          },
          "metadata": {
            "tags": [],
            "needs_background": "light"
          }
        },
        {
          "output_type": "stream",
          "text": [
            "./pickle/2D Ising Model/j=1/AntiFerromagmetic/2D_Ising_Model_CountsAF2.pkl\n"
          ],
          "name": "stdout"
        },
        {
          "output_type": "display_data",
          "data": {
            "image/png": "[encoded data removed]",
            "text/plain": [
              "<Figure size 504x504 with 1 Axes>"
            ]
          },
          "metadata": {
            "tags": [],
            "needs_background": "light"
          }
        },
        {
          "output_type": "stream",
          "text": [
            "./pickle/2D Ising Model/j=1/Disordered/2D_Ising_Model_CountsDIS3.pkl\n"
          ],
          "name": "stdout"
        },
        {
          "output_type": "display_data",
          "data": {
            "image/png": "[encoded data removed]",
            "text/plain": [
              "<Figure size 504x504 with 1 Axes>"
            ]
          },
          "metadata": {
            "tags": [],
            "needs_background": "light"
          }
        },
        {
          "output_type": "stream",
          "text": [
            "./pickle/2D Ising Model/j=1/Disordered/2D_Ising_Model_CountsDIS2.pkl\n"
          ],
          "name": "stdout"
        },
        {
          "output_type": "display_data",
          "data": {
            "image/png": "[encoded data removed]",
            "text/plain": [
              "<Figure size 504x504 with 1 Axes>"
            ]
          },
          "metadata": {
            "tags": [],
            "needs_background": "light"
          }
        },
        {
          "output_type": "stream",
          "text": [
            "./pickle/2D Ising Model/j=1/Disordered/2D_Ising_Model_CountsDIS1.pkl\n"
          ],
          "name": "stdout"
        },
        {
          "output_type": "display_data",
          "data": {
            "image/png": "[encoded data removed]",
            "text/plain": [
              "<Figure size 504x504 with 1 Axes>"
            ]
          },
          "metadata": {
            "tags": [],
            "needs_background": "light"
          }
        }
      ]
    },
    {
      "cell_type": "markdown",
      "metadata": {
        "id": "F1U6vWWQ47LL"
      },
      "source": [
        "# 2nd Max"
      ]
    },
    {
      "cell_type": "code",
      "metadata": {
        "id": "zM8MzxYt4Fgo"
      },
      "source": [
        "import numpy as np\n",
        "import seaborn as sns\n",
        "import matplotlib.pylab as plt\n",
        "from qiskit.visualization import plot_histogram\n",
        "\n",
        "def max_2nd(x):\n",
        "    x.remove(max(x))\n",
        "    return max(x)\n",
        "\n",
        "def show_counts_data_2nd(tempdata_i, max_val = 0):\n",
        "    arr = tempdata_i['vqe_result']\n",
        "    arr = arr['eigenstate']\n",
        "    data = np.asarray(arr)\n",
        "    # print(list(arr.keys()))\n",
        "    arr = {a: arr[a] for a in arr if arr[a] == max_2nd(list(arr.values()))}\n",
        "    # return plot_histogram(arr)\n",
        "    return arr\n",
        "    # return len(list(arr.keys()))\n",
        "\n",
        "    # return data"
      ],
      "execution_count": 18,
      "outputs": []
    },
    {
      "cell_type": "code",
      "metadata": {
        "colab": {
          "base_uri": "https://localhost:8080/",
          "height": 1000
        },
        "id": "cKGiunF5ROsg",
        "outputId": "8e58cc7f-3922-4b6b-b7e6-0ad37fa07495"
      },
      "source": [
        "de = {  k: show_counts_data_2nd(v)  for k, v in counts_values.items() if not \"AF1\" in k }\n",
        "\n",
        "for k, e in de.items():\n",
        "    print(k)\n",
        "    build_graph_data_from_list(list(e.keys()))"
      ],
      "execution_count": 19,
      "outputs": [
        {
          "output_type": "stream",
          "text": [
            "./pickle/2D Ising Model/j=1/AntiFerromagmetic/2D_Ising_Model_CountsAF3.kl\n"
          ],
          "name": "stdout"
        },
        {
          "output_type": "display_data",
          "data": {
            "image/png": "[encoded data removed]",
            "text/plain": [
              "<Figure size 504x504 with 1 Axes>"
            ]
          },
          "metadata": {
            "tags": [],
            "needs_background": "light"
          }
        },
        {
          "output_type": "stream",
          "text": [
            "./pickle/2D Ising Model/j=1/AntiFerromagmetic/2D_Ising_Model_CountsAF2.pkl\n"
          ],
          "name": "stdout"
        },
        {
          "output_type": "display_data",
          "data": {
            "image/png": "[encoded data removed]",
            "text/plain": [
              "<Figure size 504x504 with 1 Axes>"
            ]
          },
          "metadata": {
            "tags": [],
            "needs_background": "light"
          }
        },
        {
          "output_type": "stream",
          "text": [
            "./pickle/2D Ising Model/j=1/Disordered/2D_Ising_Model_CountsDIS3.pkl\n"
          ],
          "name": "stdout"
        },
        {
          "output_type": "display_data",
          "data": {
            "image/png": "[encoded data removed]",
            "text/plain": [
              "<Figure size 504x504 with 1 Axes>"
            ]
          },
          "metadata": {
            "tags": [],
            "needs_background": "light"
          }
        },
        {
          "output_type": "stream",
          "text": [
            "./pickle/2D Ising Model/j=1/Disordered/2D_Ising_Model_CountsDIS2.pkl\n"
          ],
          "name": "stdout"
        },
        {
          "output_type": "display_data",
          "data": {
            "image/png": "[encoded data removed]",
            "text/plain": [
              "<Figure size 504x504 with 1 Axes>"
            ]
          },
          "metadata": {
            "tags": [],
            "needs_background": "light"
          }
        },
        {
          "output_type": "stream",
          "text": [
            "./pickle/2D Ising Model/j=1/Disordered/2D_Ising_Model_CountsDIS1.pkl\n"
          ],
          "name": "stdout"
        },
        {
          "output_type": "display_data",
          "data": {
            "image/png": "[encoded data removed]",
            "text/plain": [
              "<Figure size 504x504 with 1 Axes>"
            ]
          },
          "metadata": {
            "tags": [],
            "needs_background": "light"
          }
        }
      ]
    },
    {
      "cell_type": "markdown",
      "metadata": {
        "id": "iswF5dEF4_0m"
      },
      "source": [
        "# 3rd Max"
      ]
    },
    {
      "cell_type": "code",
      "metadata": {
        "id": "kTj-0PZ7TA_f"
      },
      "source": [
        "\n",
        "def max_3rd(x):\n",
        "    x.remove(max(x))\n",
        "    x.remove(max(x))\n",
        "    return max(x)\n",
        "\n",
        "def show_counts_data_3rd(tempdata_i, max_val = 0):\n",
        "    arr = tempdata_i['vqe_result']\n",
        "    arr = arr['eigenstate']\n",
        "    data = np.asarray(arr)\n",
        "    # print(list(arr.keys()))\n",
        "    arr = {a: arr[a] for a in arr if arr[a] == max_3rd(list(arr.values()))}\n",
        "    # return plot_histogram(arr)\n",
        "    return arr"
      ],
      "execution_count": 24,
      "outputs": []
    },
    {
      "cell_type": "code",
      "metadata": {
        "colab": {
          "base_uri": "https://localhost:8080/",
          "height": 1000
        },
        "id": "v0d5Pc9p3mYR",
        "outputId": "9fc6fab8-0f0b-4e78-e801-575cda67a136"
      },
      "source": [
        "de = {  k: show_counts_data_3rd(v)  for k, v in counts_values.items()  if not \"AF1\" in k  }\n",
        "\n",
        "for k, e in de.items():\n",
        "    print(k)\n",
        "    build_graph_data_from_list(list(e.keys()))"
      ],
      "execution_count": 25,
      "outputs": [
        {
          "output_type": "stream",
          "text": [
            "./pickle/2D Ising Model/j=1/AntiFerromagmetic/2D_Ising_Model_CountsAF3.kl\n"
          ],
          "name": "stdout"
        },
        {
          "output_type": "display_data",
          "data": {
            "image/png": "[encoded data removed]",
            "text/plain": [
              "<Figure size 504x504 with 1 Axes>"
            ]
          },
          "metadata": {
            "tags": [],
            "needs_background": "light"
          }
        },
        {
          "output_type": "stream",
          "text": [
            "./pickle/2D Ising Model/j=1/AntiFerromagmetic/2D_Ising_Model_CountsAF2.pkl\n"
          ],
          "name": "stdout"
        },
        {
          "output_type": "display_data",
          "data": {
            "image/png": "[encoded data removed]",
            "text/plain": [
              "<Figure size 504x504 with 1 Axes>"
            ]
          },
          "metadata": {
            "tags": [],
            "needs_background": "light"
          }
        },
        {
          "output_type": "stream",
          "text": [
            "./pickle/2D Ising Model/j=1/Disordered/2D_Ising_Model_CountsDIS3.pkl\n"
          ],
          "name": "stdout"
        },
        {
          "output_type": "display_data",
          "data": {
            "image/png": "[encoded data removed]",
            "text/plain": [
              "<Figure size 504x504 with 1 Axes>"
            ]
          },
          "metadata": {
            "tags": [],
            "needs_background": "light"
          }
        },
        {
          "output_type": "stream",
          "text": [
            "./pickle/2D Ising Model/j=1/Disordered/2D_Ising_Model_CountsDIS2.pkl\n"
          ],
          "name": "stdout"
        },
        {
          "output_type": "display_data",
          "data": {
            "image/png": "[encoded data removed]",
            "text/plain": [
              "<Figure size 504x504 with 1 Axes>"
            ]
          },
          "metadata": {
            "tags": [],
            "needs_background": "light"
          }
        },
        {
          "output_type": "stream",
          "text": [
            "./pickle/2D Ising Model/j=1/Disordered/2D_Ising_Model_CountsDIS1.pkl\n"
          ],
          "name": "stdout"
        },
        {
          "output_type": "display_data",
          "data": {
            "image/png": "[encoded data removed]",
            "text/plain": [
              "<Figure size 504x504 with 1 Axes>"
            ]
          },
          "metadata": {
            "tags": [],
            "needs_background": "light"
          }
        }
      ]
    },
    {
      "cell_type": "code",
      "metadata": {
        "id": "xzWeXa4u42fv"
      },
      "source": [
        ""
      ],
      "execution_count": null,
      "outputs": []
    }
  ]
}